{
 "cells": [
  {
   "cell_type": "code",
   "execution_count": 2,
   "metadata": {
    "colab": {},
    "colab_type": "code",
    "id": "UsKzcesV9HJ7"
   },
   "outputs": [],
   "source": [
    "import re\n",
    "import string\n",
    "import csv\n",
    "import pandas as pd\n",
    "import numpy as np\n",
    "\n",
    "pd.set_option('display.max_columns', None)\n",
    "import warnings\n",
    "warnings.filterwarnings('ignore')\n",
    "\n",
    "from bs4 import BeautifulSoup\n",
    "from gensim.parsing.preprocessing import remove_stopwords\n",
    "from gensim.parsing.porter import PorterStemmer\n",
    "from gensim.parsing.preprocessing import strip_punctuation\n",
    "from gensim.parsing.preprocessing import strip_numeric\n",
    "from wordcloud import WordCloud, STOPWORDS\n",
    "\n",
    "import nltk\n",
    "from nltk.corpus import treebank\n",
    "from nltk.tag import hmm\n",
    "\n",
    "import matplotlib.pyplot as plt\n",
    "%matplotlib inline\n",
    "\n",
    "from langdetect import detect\n",
    "\n",
    "from sklearn.metrics import precision_score\n",
    "from sklearn.metrics import recall_score\n",
    "from sklearn.metrics import accuracy_score\n",
    "from sklearn.metrics import roc_auc_score\n",
    "from sklearn.metrics import f1_score"
   ]
  },
  {
   "cell_type": "markdown",
   "metadata": {
    "colab_type": "text",
    "id": "AmJWtPs79HKB"
   },
   "source": [
    "## Data loading\n",
    "\n",
    "We load our dataset from the 'fake_job_data.csv' file to a pandas dataframe."
   ]
  },
  {
   "cell_type": "code",
   "execution_count": 3,
   "metadata": {
    "colab": {},
    "colab_type": "code",
    "id": "JdDiH6rw9HKC"
   },
   "outputs": [],
   "source": [
    "datafull = pd.read_csv('fake_job_data.csv')"
   ]
  },
  {
   "cell_type": "code",
   "execution_count": 4,
   "metadata": {
    "colab": {
     "base_uri": "https://localhost:8080/",
     "height": 348
    },
    "colab_type": "code",
    "id": "jhqHjuUW9HKJ",
    "outputId": "01acb791-39b6-4495-e341-af85a9dc7172"
   },
   "outputs": [
    {
     "data": {
      "text/plain": [
       "['title',\n",
       " 'location',\n",
       " 'department',\n",
       " 'salary_range',\n",
       " 'company_profile',\n",
       " 'description',\n",
       " 'requirements',\n",
       " 'benefits',\n",
       " 'telecommuting',\n",
       " 'has_company_logo',\n",
       " 'has_questions',\n",
       " 'employment_type',\n",
       " 'required_experience',\n",
       " 'required_education',\n",
       " 'industry',\n",
       " 'function',\n",
       " 'fraudulent',\n",
       " 'in_balanced_dataset']"
      ]
     },
     "execution_count": 4,
     "metadata": {
      "tags": []
     },
     "output_type": "execute_result"
    }
   ],
   "source": [
    "list(datafull.columns)"
   ]
  },
  {
   "cell_type": "markdown",
   "metadata": {
    "colab_type": "text",
    "id": "i2jYZW6-9HKR"
   },
   "source": [
    "## Checking distribution of fraudulent and non fraudulent jobs in the dataset \n",
    "\n",
    "The 'fraudulent' variable contains the labels"
   ]
  },
  {
   "cell_type": "code",
   "execution_count": 5,
   "metadata": {
    "colab": {
     "base_uri": "https://localhost:8080/",
     "height": 283
    },
    "colab_type": "code",
    "id": "Eo9bInGZ9HKZ",
    "outputId": "ca77fde9-5932-4365-a0d4-7840d129be71"
   },
   "outputs": [
    {
     "data": {
      "text/plain": [
       "<BarContainer object of 2 artists>"
      ]
     },
     "execution_count": 5,
     "metadata": {
      "tags": []
     },
     "output_type": "execute_result"
    },
    {
     "data": {
      "image/png": "[encoded data removed]",
      "text/plain": [
       "<Figure size 288x288 with 1 Axes>"
      ]
     },
     "metadata": {
      "needs_background": "light",
      "tags": []
     },
     "output_type": "display_data"
    }
   ],
   "source": [
    "plt.figure(figsize=(4, 4))\n",
    "plt.bar(['f', 't'], list(datafull['fraudulent'].value_counts()[:2]))"
   ]
  },
  {
   "cell_type": "code",
   "execution_count": 6,
   "metadata": {
    "colab": {
     "base_uri": "https://localhost:8080/",
     "height": 72
    },
    "colab_type": "code",
    "id": "SnbmD2KD9HKg",
    "outputId": "a1c1ed79-532e-4c50-82cf-321e2bd9c8e8"
   },
   "outputs": [
    {
     "data": {
      "text/plain": [
       "f    17014\n",
       "t      866\n",
       "Name: fraudulent, dtype: int64"
      ]
     },
     "execution_count": 6,
     "metadata": {
      "tags": []
     },
     "output_type": "execute_result"
    }
   ],
   "source": [
    "datafull['fraudulent'].value_counts()"
   ]
  },
  {
   "cell_type": "markdown",
   "metadata": {
    "colab_type": "text",
    "id": "qWIt-taD9HKx"
   },
   "source": [
    "## Analysis of missing values in each variable"
   ]
  },
  {
   "cell_type": "code",
   "execution_count": 7,
   "metadata": {
    "colab": {
     "base_uri": "https://localhost:8080/",
     "height": 366
    },
    "colab_type": "code",
    "id": "9KTHV4ea9HKy",
    "outputId": "9d443a16-a318-4d92-a5ad-354b00d21d34"
   },
   "outputs": [
    {
     "data": {
      "text/plain": [
       "title                  0.000000\n",
       "location               0.019351\n",
       "department             0.645805\n",
       "salary_range           0.839597\n",
       "company_profile        0.185011\n",
       "description            0.000000\n",
       "requirements           0.150391\n",
       "benefits               0.402461\n",
       "telecommuting          0.000000\n",
       "has_company_logo       0.000000\n",
       "has_questions          0.000000\n",
       "employment_type        0.194128\n",
       "required_experience    0.394295\n",
       "required_education     0.453300\n",
       "industry               0.274217\n",
       "function               0.361018\n",
       "fraudulent             0.000000\n",
       "in_balanced_dataset    0.000000\n",
       "dtype: float64"
      ]
     },
     "execution_count": 7,
     "metadata": {
      "tags": []
     },
     "output_type": "execute_result"
    }
   ],
   "source": [
    "datafull.isnull().sum()/(len(datafull))"
   ]
  },
  {
   "cell_type": "markdown",
   "metadata": {
    "colab_type": "text",
    "id": "uxoY2sPt9HK0"
   },
   "source": [
    "We notice some features like department and education have very high missing values and are hard to predict. Therefore we decide to drop them."
   ]
  },
  {
   "cell_type": "markdown",
   "metadata": {
    "colab_type": "text",
    "id": "yuMQRYmA9HK0"
   },
   "source": [
    "## Dropping other variables\n",
    "\n",
    "For our model, we want to maintain regularization and hence we remove location, required_experience, required_education, industry and function too. "
   ]
  },
  {
   "cell_type": "code",
   "execution_count": 8,
   "metadata": {
    "colab": {},
    "colab_type": "code",
    "id": "f_SLdU-B9HK1"
   },
   "outputs": [],
   "source": [
    "datafull.drop(columns = ['department', 'location', 'employment_type', 'required_experience', 'required_education', 'industry', 'function'], axis = 1, inplace=True)"
   ]
  },
  {
   "cell_type": "markdown",
   "metadata": {
    "colab_type": "text",
    "id": "abOf0uTp9HK3"
   },
   "source": [
    "## Checking missing values again"
   ]
  },
  {
   "cell_type": "code",
   "execution_count": 9,
   "metadata": {
    "colab": {
     "base_uri": "https://localhost:8080/",
     "height": 237
    },
    "colab_type": "code",
    "id": "_nmRo72N9HK4",
    "outputId": "012ce051-42a8-48fb-d8a1-ad5fad1a10b0"
   },
   "outputs": [
    {
     "data": {
      "text/plain": [
       "title                  0.000000\n",
       "salary_range           0.839597\n",
       "company_profile        0.185011\n",
       "description            0.000000\n",
       "requirements           0.150391\n",
       "benefits               0.402461\n",
       "telecommuting          0.000000\n",
       "has_company_logo       0.000000\n",
       "has_questions          0.000000\n",
       "fraudulent             0.000000\n",
       "in_balanced_dataset    0.000000\n",
       "dtype: float64"
      ]
     },
     "execution_count": 9,
     "metadata": {
      "tags": []
     },
     "output_type": "execute_result"
    }
   ],
   "source": [
    "datafull.isnull().sum()/(len(datafull))"
   ]
  },
  {
   "cell_type": "markdown",
   "metadata": {
    "colab_type": "text",
    "id": "qV1JuLMn9HK6"
   },
   "source": [
    "## Analyzing the missing values\n",
    "\n",
    "We notice that we only have missing values in company_profile, requirements, benefits and salary. For the first 3: It is in our interest that these missing values may belong more to the fraudulent jobs and can be used as a feature in our prediction. For Salary, we will work on predicting it through text as well."
   ]
  },
  {
   "cell_type": "code",
   "execution_count": 10,
   "metadata": {
    "colab": {},
    "colab_type": "code",
    "id": "QHlypRph9HK7"
   },
   "outputs": [],
   "source": [
    "fraudulent_jobs = datafull[datafull.fraudulent=='t']\n",
    "non_fraudulent_jobs = datafull[datafull.fraudulent=='f']"
   ]
  },
  {
   "cell_type": "code",
   "execution_count": 11,
   "metadata": {
    "colab": {
     "base_uri": "https://localhost:8080/",
     "height": 237
    },
    "colab_type": "code",
    "id": "KEW2drf-9HK9",
    "outputId": "dbb74b4d-0cd5-4ef1-b1a9-a5d890283406"
   },
   "outputs": [
    {
     "data": {
      "text/plain": [
       "title                  0.000000\n",
       "salary_range           0.742494\n",
       "company_profile        0.677829\n",
       "description            0.000000\n",
       "requirements           0.176674\n",
       "benefits               0.419169\n",
       "telecommuting          0.000000\n",
       "has_company_logo       0.000000\n",
       "has_questions          0.000000\n",
       "fraudulent             0.000000\n",
       "in_balanced_dataset    0.000000\n",
       "dtype: float64"
      ]
     },
     "execution_count": 11,
     "metadata": {
      "tags": []
     },
     "output_type": "execute_result"
    }
   ],
   "source": [
    "fraudulent_jobs.isnull().sum()/(len(datafull[datafull.fraudulent=='t']))"
   ]
  },
  {
   "cell_type": "code",
   "execution_count": 12,
   "metadata": {
    "colab": {
     "base_uri": "https://localhost:8080/",
     "height": 237
    },
    "colab_type": "code",
    "id": "iUx9PuCR9HK_",
    "outputId": "644268c6-2ed7-4585-cb9c-48ac70b4c103"
   },
   "outputs": [
    {
     "data": {
      "text/plain": [
       "title                  0.000000\n",
       "salary_range           0.844540\n",
       "company_profile        0.159927\n",
       "description            0.000000\n",
       "requirements           0.149054\n",
       "benefits               0.401610\n",
       "telecommuting          0.000000\n",
       "has_company_logo       0.000000\n",
       "has_questions          0.000000\n",
       "fraudulent             0.000000\n",
       "in_balanced_dataset    0.000000\n",
       "dtype: float64"
      ]
     },
     "execution_count": 12,
     "metadata": {
      "tags": []
     },
     "output_type": "execute_result"
    }
   ],
   "source": [
    "non_fraudulent_jobs.isnull().sum()/(len(datafull[datafull.fraudulent=='f']))"
   ]
  },
  {
   "cell_type": "markdown",
   "metadata": {
    "colab_type": "text",
    "id": "JCQ-wI3p9HLE"
   },
   "source": [
    "## Replace any nan values present in the dataframe with empty strings \n",
    "\n",
    "The 3 variables containing the missing values are text data. Therefore we can replace the nan values with empty strings[length =0]"
   ]
  },
  {
   "cell_type": "code",
   "execution_count": 13,
   "metadata": {
    "colab": {},
    "colab_type": "code",
    "id": "4IVWf4RJ9HLE"
   },
   "outputs": [],
   "source": [
    "datafull = datafull.replace(np.nan, '')"
   ]
  },
  {
   "cell_type": "code",
   "execution_count": 14,
   "metadata": {
    "colab": {
     "base_uri": "https://localhost:8080/",
     "height": 237
    },
    "colab_type": "code",
    "id": "krq0sK8h9HLG",
    "outputId": "a192ece1-fc4e-4011-e912-1a20204eacf6"
   },
   "outputs": [
    {
     "data": {
      "text/plain": [
       "title                  0\n",
       "salary_range           0\n",
       "company_profile        0\n",
       "description            0\n",
       "requirements           0\n",
       "benefits               0\n",
       "telecommuting          0\n",
       "has_company_logo       0\n",
       "has_questions          0\n",
       "fraudulent             0\n",
       "in_balanced_dataset    0\n",
       "dtype: int64"
      ]
     },
     "execution_count": 14,
     "metadata": {
      "tags": []
     },
     "output_type": "execute_result"
    }
   ],
   "source": [
    "datafull.isnull().sum()"
   ]
  },
  {
   "cell_type": "markdown",
   "metadata": {
    "colab_type": "text",
    "id": "F3EHwNuZ9HLJ"
   },
   "source": [
    "## Preprocessing HTML data\n",
    "\n",
    "The variables company_profile, description, requirements and benefits are in the form of html data. We preprocess these text by:\n",
    "1. Case folding the text: make_lower()\n",
    "2. Removing br tags: remove_br()\n",
    "3. Stripping html tags: clean_html()\n",
    "4. Removing non-ascii characters: remove_non_ascii()\n",
    "5. Removing url patterns: remove_junk()\n",
    "6. Removing punctuations: remove_punct()\n",
    "7. Removing escapes: remove_escape()\n",
    "8. Removing digits: remove_digits()\n",
    "9. Detecting foreign languages. We remove them from the dataset\n",
    "\n",
    "We perform the preprocessing and store them into new variables: preprocessed_company_profile, preprocessed_description, preprocessed_requirements and preprocessed_benefits respectively. We also create a new variable called full_text which is a contacatenated value of all the preprocessed text variables."
   ]
  },
  {
   "cell_type": "code",
   "execution_count": 15,
   "metadata": {
    "colab": {},
    "colab_type": "code",
    "id": "d9zse9hE9HLJ"
   },
   "outputs": [],
   "source": [
    "def make_lower(text):\n",
    "    a = text.lower()\n",
    "    return(a)\n",
    "\n",
    "def clean_html(text):\n",
    "    soup = BeautifulSoup(text, 'html.parser')\n",
    "    return soup.get_text()\n",
    "\n",
    "def remove_punct(text):\n",
    "    text = strip_punctuation(text)           \n",
    "    return (text)\n",
    "\n",
    "def remove_non_ascii(text):\n",
    "    decoded = re.sub(r'[^\\x00-\\x7F]+[a-z]*',' ', text)\n",
    "    return decoded\n",
    "\n",
    "def remove_junk(text):\n",
    "    text = re.sub(r'url_[a-z0-9]+', ' ', text)\n",
    "    text = re.sub(r'email_[a-z0-9]+', ' ', text)\n",
    "    text = re.sub(r'phone_[a-z0-9]+', ' ', text)\n",
    "    return text\n",
    "\n",
    "def remove_br(text):\n",
    "    text = re.sub(r'<br>+', ' ', text)\n",
    "    return text\n",
    "\n",
    "def remove_escapes(text):\n",
    "    text = re.sub(r'\\n', ' ', text)\n",
    "    text = re.sub(r'\\t', ' ', text)\n",
    "    text = re.sub(r'\\s+', ' ', text)\n",
    "    return text\n",
    "\n",
    "def remove_digits(text):\n",
    "    text = re.sub(r'\\d+', '', text)\n",
    "    return(text)\n",
    "\n",
    "def find_language(text):\n",
    "    return detect(text)\n",
    "\n",
    "def stopwords_removal(text):\n",
    "    return remove_stopwords(text)\n",
    "\n",
    "def stem_sentences(text):\n",
    "    p=PorterStemmer()\n",
    "    return p.stem(text)\n",
    "\n",
    "def preprocessing(text):\n",
    "    text = text.apply(make_lower)\n",
    "    text = text.apply(remove_br)\n",
    "    text = text.apply(clean_html)\n",
    "    text = text.apply(remove_non_ascii)\n",
    "    text = text.apply(remove_junk)\n",
    "    text = text.apply(remove_punct)\n",
    "    text = text.apply(remove_escapes)\n",
    "    text = text.apply(remove_digits)\n",
    "    text=text.apply(stopwords_removal)\n",
    "    text=text.apply(stem_sentences)\n",
    "    return text"
   ]
  },
  {
   "cell_type": "code",
   "execution_count": 16,
   "metadata": {
    "colab": {},
    "colab_type": "code",
    "id": "Wg4mZ2BPOIBg"
   },
   "outputs": [],
   "source": [
    "datafull['preprocessed_description'] = preprocessing(datafull['description'])\n",
    "datafull['preprocessed_company_profile'] = preprocessing(datafull['company_profile'])\n",
    "datafull['preprocessed_requirements'] = preprocessing(datafull['requirements'])\n",
    "datafull['preprocessed_benefits'] = preprocessing(datafull['benefits'])\n",
    "datafull['preprocessed_title'] = preprocessing(datafull['title'])\n",
    "\n",
    "datafull['full_text'] = datafull['preprocessed_description'] + datafull['preprocessed_company_profile'] + datafull['preprocessed_requirements'] + datafull['preprocessed_benefits']\n",
    "\n",
    "datafull['language'] = datafull['full_text'].apply(find_language)\n",
    "\n",
    "datafull = datafull[datafull.language == \"en\"]\n",
    "datafull.index = range(0,len(datafull))"
   ]
  },
  {
   "cell_type": "markdown",
   "metadata": {
    "colab_type": "text",
    "id": "jyR35fWsOIBy"
   },
   "source": [
    "##### Transforming salary range to numeric figures"
   ]
  },
  {
   "cell_type": "code",
   "execution_count": 17,
   "metadata": {
    "colab": {},
    "colab_type": "code",
    "id": "l8Zq9N7pOIBz"
   },
   "outputs": [],
   "source": [
    "salarypoint=[]\n",
    "salarylower=[]\n",
    "salaryupper=[]\n",
    "for i in datafull['salary_range']:\n",
    "    sal=float(\"NaN\")\n",
    "    lsal=float(\"NaN\")\n",
    "    usal=float(\"NaN\")\n",
    "    if i and type(i)==str:\n",
    "        matched=re.match('([0-9])+000-([0-9])+000',i)\n",
    "        if matched:\n",
    "            l=matched.group(0).split('-')\n",
    "            lsal=int(l[0])\n",
    "            usal=int(l[1])\n",
    "            sal=(lsal+usal)/2\n",
    "    salarypoint.append(sal)\n",
    "    salarylower.append(lsal)\n",
    "    salaryupper.append(usal)\n",
    "\n",
    "datafull['salary_point']=salarypoint\n",
    "datafull['salary_lower']=salarylower\n",
    "datafull['salary_upper']=salaryupper"
   ]
  },
  {
   "cell_type": "code",
   "execution_count": 18,
   "metadata": {
    "colab": {},
    "colab_type": "code",
    "id": "N6kKCMRrOIB1"
   },
   "outputs": [],
   "source": [
    "NotNull=[i for i,e in enumerate(salarypoint) if e>0]\n",
    "X = np.array(datafull.loc[NotNull, 'full_text'])\n",
    "y = np.array(datafull.loc[NotNull, ['salary_point','salary_lower','salary_upper']])\n",
    "\n",
    "minsal=min([i[1] for i in y])\n",
    "maxsal=max([i[2] for i in y])\n",
    "classes=range(int(minsal),int(maxsal),20000)"
   ]
  },
  {
   "cell_type": "markdown",
   "metadata": {
    "colab_type": "text",
    "id": "u1u4ITNZ9HKj"
   },
   "source": [
    "## Getting a more balanced dataset\n",
    "<i>The data here is highly skewed towards the non-fraudulent jobs. Therefore, we sample all fraudulent jobs along with all genuine jobs that already have salaries (in that way we reduce the error of the salary predictor creeping into our final data once it is used) </i>"
   ]
  },
  {
   "cell_type": "code",
   "execution_count": 19,
   "metadata": {
    "colab": {},
    "colab_type": "code",
    "id": "0X0di1S_OICT"
   },
   "outputs": [],
   "source": [
    "data = pd.concat([datafull[datafull.fraudulent=='t'],datafull.loc[NotNull,][datafull.fraudulent=='f']])\n",
    "data.index = range(0,len(data))"
   ]
  },
  {
   "cell_type": "code",
   "execution_count": 20,
   "metadata": {
    "colab": {
     "base_uri": "https://localhost:8080/",
     "height": 283
    },
    "colab_type": "code",
    "id": "VSmqvSFa9HKn",
    "outputId": "702e3626-b767-4f0b-c99d-700fa080e2b4"
   },
   "outputs": [
    {
     "data": {
      "text/plain": [
       "<BarContainer object of 2 artists>"
      ]
     },
     "execution_count": 20,
     "metadata": {
      "tags": []
     },
     "output_type": "execute_result"
    },
    {
     "data": {
      "image/png": "[encoded data removed]",
      "text/plain": [
       "<Figure size 288x288 with 1 Axes>"
      ]
     },
     "metadata": {
      "needs_background": "light",
      "tags": []
     },
     "output_type": "display_data"
    }
   ],
   "source": [
    "plt.figure(figsize=(4, 4))\n",
    "plt.bar(['f', 't'], list(data['fraudulent'].value_counts()[:2]))"
   ]
  },
  {
   "cell_type": "markdown",
   "metadata": {
    "colab_type": "text",
    "id": "NuMqQcxt9HLN"
   },
   "source": [
    "## Bag of words model\n",
    "\n",
    "First we build a bag of words model using th full_text variable created. "
   ]
  },
  {
   "cell_type": "code",
   "execution_count": 21,
   "metadata": {
    "colab": {},
    "colab_type": "code",
    "id": "WXqqVUKb9HLO"
   },
   "outputs": [],
   "source": [
    "from sklearn.feature_extraction.text import CountVectorizer\n",
    "from sklearn.model_selection import train_test_split\n",
    "from sklearn.model_selection import cross_val_score\n",
    "from sklearn.linear_model import LogisticRegression\n",
    "from sklearn.naive_bayes import MultinomialNB\n",
    "from sklearn.ensemble import RandomForestClassifier\n",
    "from sklearn.svm import LinearSVC\n",
    "from sklearn.neighbors import KNeighborsClassifier\n",
    "from sklearn.feature_extraction.stop_words import ENGLISH_STOP_WORDS\n",
    "from sklearn.metrics import accuracy_score, roc_auc_score, classification_report, confusion_matrix\n",
    "from nltk.tokenize import RegexpTokenizer\n",
    "from sklearn.metrics import classification_report"
   ]
  },
  {
   "cell_type": "code",
   "execution_count": 22,
   "metadata": {
    "colab": {},
    "colab_type": "code",
    "id": "iVw_uxPwOIBs"
   },
   "outputs": [],
   "source": [
    "text_datafull = datafull['full_text']\n",
    "tokenfull = RegexpTokenizer(r'[a-zA-Z0-9]+')"
   ]
  },
  {
   "cell_type": "markdown",
   "metadata": {
    "colab_type": "text",
    "id": "h4AQP197OICl"
   },
   "source": [
    "## Bag of words model - Baseline"
   ]
  },
  {
   "cell_type": "code",
   "execution_count": 23,
   "metadata": {
    "colab": {},
    "colab_type": "code",
    "id": "cCzHfqOU9HLQ"
   },
   "outputs": [],
   "source": [
    "text_data = data['full_text']\n",
    "token = RegexpTokenizer(r'[a-zA-Z0-9]+')\n",
    "vect = CountVectorizer(lowercase=True,stop_words='english',ngram_range = (1,1),tokenizer = token.tokenize)\n",
    "bow = vect.fit_transform(text_data)\n",
    "bow = bow.toarray()"
   ]
  },
  {
   "cell_type": "markdown",
   "metadata": {
    "colab_type": "text",
    "id": "zm_fzQaR9HLS"
   },
   "source": [
    "### Splitting the dataset into train and test"
   ]
  },
  {
   "cell_type": "code",
   "execution_count": 24,
   "metadata": {
    "colab": {},
    "colab_type": "code",
    "id": "bJzZPXJP9HLT"
   },
   "outputs": [],
   "source": [
    "bow_train, bow_test, data_train, data_test = train_test_split(bow, data, test_size = 0.3, random_state = 0)"
   ]
  },
  {
   "cell_type": "code",
   "execution_count": 25,
   "metadata": {
    "colab": {},
    "colab_type": "code",
    "id": "FpCYDApuTJG6"
   },
   "outputs": [],
   "source": [
    "X_train0=bow_train\n",
    "X_test0=bow_test\n",
    "y_train = data_train['fraudulent']==\"t\"\n",
    "y_test = data_test['fraudulent']==\"t\""
   ]
  },
  {
   "cell_type": "code",
   "execution_count": 26,
   "metadata": {
    "colab": {},
    "colab_type": "code",
    "id": "WTB8G8QzTTOZ"
   },
   "outputs": [],
   "source": [
    "clfs = [MultinomialNB(),LogisticRegression(),LinearSVC(),KNeighborsClassifier(),RandomForestClassifier()]\n",
    "models=['NB','LR','SVC','K-NN','RF']"
   ]
  },
  {
   "cell_type": "code",
   "execution_count": 27,
   "metadata": {
    "colab": {
     "base_uri": "https://localhost:8080/",
     "height": 935
    },
    "colab_type": "code",
    "id": "d-jsdiLqTVNf",
    "outputId": "c155ee29-9409-4b3a-c4d3-acfd01b2bd30"
   },
   "outputs": [
    {
     "name": "stdout",
     "output_type": "stream",
     "text": [
      "NB\n",
      "              precision    recall  f1-score   support\n",
      "\n",
      "       False       0.96      0.93      0.94       623\n",
      "        True       0.85      0.90      0.87       263\n",
      "\n",
      "    accuracy                           0.92       886\n",
      "   macro avg       0.90      0.91      0.91       886\n",
      "weighted avg       0.92      0.92      0.92       886\n",
      "\n",
      "LR\n",
      "              precision    recall  f1-score   support\n",
      "\n",
      "       False       0.96      0.96      0.96       623\n",
      "        True       0.91      0.89      0.90       263\n",
      "\n",
      "    accuracy                           0.94       886\n",
      "   macro avg       0.93      0.93      0.93       886\n",
      "weighted avg       0.94      0.94      0.94       886\n",
      "\n",
      "SVC\n",
      "              precision    recall  f1-score   support\n",
      "\n",
      "       False       0.95      0.95      0.95       623\n",
      "        True       0.88      0.89      0.88       263\n",
      "\n",
      "    accuracy                           0.93       886\n",
      "   macro avg       0.91      0.92      0.92       886\n",
      "weighted avg       0.93      0.93      0.93       886\n",
      "\n",
      "K-NN\n",
      "              precision    recall  f1-score   support\n",
      "\n",
      "       False       0.94      0.70      0.81       623\n",
      "        True       0.56      0.90      0.69       263\n",
      "\n",
      "    accuracy                           0.76       886\n",
      "   macro avg       0.75      0.80      0.75       886\n",
      "weighted avg       0.83      0.76      0.77       886\n",
      "\n",
      "RF\n",
      "              precision    recall  f1-score   support\n",
      "\n",
      "       False       0.91      0.99      0.95       623\n",
      "        True       0.98      0.76      0.86       263\n",
      "\n",
      "    accuracy                           0.92       886\n",
      "   macro avg       0.94      0.88      0.90       886\n",
      "weighted avg       0.93      0.92      0.92       886\n",
      "\n"
     ]
    }
   ],
   "source": [
    "for i,clf in enumerate(clfs):\n",
    "    clf.fit(X_train0, y_train)\n",
    "    # infer the label of each instance in the test set\n",
    "    predictions = clf.predict(X_test0)\n",
    "    print(models[i])\n",
    "    print(classification_report(y_test, predictions))"
   ]
  },
  {
   "cell_type": "code",
   "execution_count": 28,
   "metadata": {
    "colab": {},
    "colab_type": "code",
    "id": "zdTFMluiNQF6"
   },
   "outputs": [],
   "source": [
    "del X_train0\n",
    "del X_test0"
   ]
  },
  {
   "cell_type": "markdown",
   "metadata": {
    "colab_type": "text",
    "id": "Az8gSnZo9HLl"
   },
   "source": [
    "## Looking at the term and bigram frequencies of the text in fraudulent and non-fraudulent data to understand the underlying situation."
   ]
  },
  {
   "cell_type": "code",
   "execution_count": 29,
   "metadata": {
    "colab": {},
    "colab_type": "code",
    "id": "CmzUWmmg9HLn"
   },
   "outputs": [],
   "source": [
    "fraudulent_jobs = data_train[data_train.fraudulent=='t']\n",
    "non_fraudulent_jobs = data_train[data_train.fraudulent=='f']"
   ]
  },
  {
   "cell_type": "code",
   "execution_count": 30,
   "metadata": {
    "colab": {},
    "colab_type": "code",
    "id": "A0T7m7A-uATO"
   },
   "outputs": [],
   "source": [
    "import matplotlib.pyplot as plt\n",
    "from collections import Counter\n",
    "import operator\n",
    "def termfreq(input,n):\n",
    "    word_list=[]\n",
    "    word_list.append([i  for j in input for i in j.split()])\n",
    "    counts_all = Counter(word_list[0])\n",
    "    \n",
    "    words, count_values = zip(*counts_all.items())\n",
    "    \n",
    "    # http://stackoverflow.com/questions/9543211/sorting-a-list-in-python-using-the-result-from-sorting-another-list\n",
    "    values_s, words_s = zip(*sorted(zip(count_values, words), key=operator.itemgetter(0), reverse=True))\n",
    "    \n",
    "    # Top N\n",
    "    words_s_top = words_s[0:n]\n",
    "    values_s_top = values_s[0:n]\n",
    "    \n",
    "    df = pd.DataFrame({'count': values_s_top, 'word': words_s_top})\n",
    "    print(df)\n",
    "  \n",
    "    fig1 = plt.figure()\n",
    "    fig1.suptitle('term frequency plot', fontsize=16)\n",
    "    plt.xlabel('frequency rank', fontsize=12)\n",
    "    plt.ylabel('frequency', fontsize=12)\n",
    "    plt.plot(values_s)\n",
    "    plt.show()\n",
    "\n",
    "    fig2 = plt.figure()\n",
    "    fig2.suptitle('term frequency plot log-log', fontsize=16)\n",
    "    plt.xlabel('frequency rank', fontsize=12)\n",
    "    plt.ylabel('frequency', fontsize=12)\n",
    "    plt.plot(values_s)\n",
    "    plt.yscale('log')\n",
    "    plt.xscale('log')\n",
    "    plt.show()"
   ]
  },
  {
   "cell_type": "code",
   "execution_count": 31,
   "metadata": {
    "colab": {},
    "colab_type": "code",
    "id": "9cdxSniD-qdS"
   },
   "outputs": [],
   "source": [
    "def bigramfreq(input,n):\n",
    "    bigram_list=[]\n",
    "    bigram_list.append([\" \".join((j.split()[i-1],j.split()[i]))  for j in input for i in range(len(j.split()[1:]))])\n",
    "    counts_all = Counter(bigram_list[0])\n",
    "    \n",
    "    bigrams, count_values = zip(*counts_all.items())\n",
    "    \n",
    "    # http://stackoverflow.com/questions/9543211/sorting-a-list-in-python-using-the-result-from-sorting-another-list\n",
    "    values_s, bigrams_s = zip(*sorted(zip(count_values, bigrams), key=operator.itemgetter(0), reverse=True))\n",
    "    \n",
    "    # Top N\n",
    "    bigrams_s_top = bigrams_s[0:n]\n",
    "    values_s_top = values_s[0:n]\n",
    "    \n",
    "    df = pd.DataFrame({'count': values_s_top, 'bigram': bigrams_s_top})\n",
    "    print(df)\n",
    "  \n",
    "    fig1 = plt.figure()\n",
    "    fig1.suptitle('bigrams frequency plot', fontsize=16)\n",
    "    plt.xlabel('frequency rank', fontsize=12)\n",
    "    plt.ylabel('frequency', fontsize=12)\n",
    "    plt.plot(values_s)\n",
    "    plt.show()\n",
    "\n",
    "    fig2 = plt.figure()\n",
    "    fig2.suptitle('bigrams frequency plot log-log', fontsize=16)\n",
    "    plt.xlabel('frequency rank', fontsize=12)\n",
    "    plt.ylabel('frequency', fontsize=12)\n",
    "    plt.plot(values_s)\n",
    "    plt.yscale('log')\n",
    "    plt.xscale('log')\n",
    "    plt.show()"
   ]
  },
  {
   "cell_type": "code",
   "execution_count": 32,
   "metadata": {
    "colab": {
     "base_uri": "https://localhost:8080/",
     "height": 1000
    },
    "colab_type": "code",
    "id": "qEy3t4DB9HLq",
    "outputId": "aba4a200-4319-4a41-f021-e90dfd52fff0",
    "scrolled": true
   },
   "outputs": [
    {
     "name": "stdout",
     "output_type": "stream",
     "text": [
      "   count         word\n",
      "0   4168   experience\n",
      "1   3674         work\n",
      "2   3348         team\n",
      "3   2111     business\n",
      "4   2031      company\n",
      "5   2026       skills\n",
      "6   1962        sales\n",
      "7   1894          new\n",
      "8   1890  development\n",
      "9   1843   management\n"
     ]
    },
    {
     "data": {
      "image/png": "[encoded data removed]",
      "text/plain": [
       "<Figure size 432x288 with 1 Axes>"
      ]
     },
     "metadata": {
      "needs_background": "light",
      "tags": []
     },
     "output_type": "display_data"
    },
    {
     "data": {
      "image/png": "[encoded data removed]",
      "text/plain": [
       "<Figure size 432x288 with 1 Axes>"
      ]
     },
     "metadata": {
      "needs_background": "light",
      "tags": []
     },
     "output_type": "display_data"
    },
    {
     "name": "stdout",
     "output_type": "stream",
     "text": [
      "   count                bigram\n",
      "0    423  communication skills\n",
      "1    403      years experience\n",
      "2    348          social media\n",
      "3    340      customer service\n",
      "4    251          ability work\n",
      "5    235          fast growing\n",
      "6    222            fast paced\n",
      "7    222             long term\n",
      "8    206  software development\n",
      "9    204    experience working\n"
     ]
    },
    {
     "data": {
      "image/png": "[encoded data removed]",
      "text/plain": [
       "<Figure size 432x288 with 1 Axes>"
      ]
     },
     "metadata": {
      "needs_background": "light",
      "tags": []
     },
     "output_type": "display_data"
    },
    {
     "data": {
      "image/png": "[encoded data removed]",
      "text/plain": [
       "<Figure size 432x288 with 1 Axes>"
      ]
     },
     "metadata": {
      "needs_background": "light",
      "tags": []
     },
     "output_type": "display_data"
    }
   ],
   "source": [
    "non_fraudulent_words_title = non_fraudulent_jobs.full_text.values\n",
    "termfreq(non_fraudulent_words_title,10)\n",
    "bigramfreq(non_fraudulent_words_title,10)"
   ]
  },
  {
   "cell_type": "code",
   "execution_count": 33,
   "metadata": {
    "colab": {
     "base_uri": "https://localhost:8080/",
     "height": 1000
    },
    "colab_type": "code",
    "id": "t4ikQnO59HLs",
    "outputId": "f8b23102-1254-47e2-837d-9acf6c78d93a",
    "scrolled": true
   },
   "outputs": [
    {
     "name": "stdout",
     "output_type": "stream",
     "text": [
      "   count        word\n",
      "0   1177        work\n",
      "1   1110  experience\n",
      "2    858      skills\n",
      "3    612     company\n",
      "4    588        team\n",
      "5    524        time\n",
      "6    517     ability\n",
      "7    500  management\n",
      "8    489     service\n",
      "9    463    business\n"
     ]
    },
    {
     "data": {
      "image/png": "[encoded data removed]",
      "text/plain": [
       "<Figure size 432x288 with 1 Axes>"
      ]
     },
     "metadata": {
      "needs_background": "light",
      "tags": []
     },
     "output_type": "display_data"
    },
    {
     "data": {
      "image/png": "[encoded data removed]",
      "text/plain": [
       "<Figure size 432x288 with 1 Axes>"
      ]
     },
     "metadata": {
      "needs_background": "light",
      "tags": []
     },
     "output_type": "display_data"
    },
    {
     "name": "stdout",
     "output_type": "stream",
     "text": [
      "   count                bigram\n",
      "0    194      customer service\n",
      "1    186            data entry\n",
      "2    166               oil gas\n",
      "3    147  communication skills\n",
      "4    135        aker solutions\n",
      "5    120      years experience\n",
      "6    112          gas industry\n",
      "7    107          ability work\n",
      "8     88             work home\n",
      "9     84             able work\n"
     ]
    },
    {
     "data": {
      "image/png": "[encoded data removed]",
      "text/plain": [
       "<Figure size 432x288 with 1 Axes>"
      ]
     },
     "metadata": {
      "needs_background": "light",
      "tags": []
     },
     "output_type": "display_data"
    },
    {
     "data": {
      "image/png": "[encoded data removed]",
      "text/plain": [
       "<Figure size 432x288 with 1 Axes>"
      ]
     },
     "metadata": {
      "needs_background": "light",
      "tags": []
     },
     "output_type": "display_data"
    }
   ],
   "source": [
    "fraudulent_words_title = fraudulent_jobs.full_text.values\n",
    "termfreq(fraudulent_words_title,10)\n",
    "bigramfreq(fraudulent_words_title,10)"
   ]
  },
  {
   "cell_type": "markdown",
   "metadata": {
    "colab_type": "text",
    "id": "obeX4-PaqZ5o"
   },
   "source": [
    "Consider downweighting the effect of common words by using binary values and by using tf*idf"
   ]
  },
  {
   "cell_type": "markdown",
   "metadata": {
    "colab_type": "text",
    "id": "LOM1yalsqpCk"
   },
   "source": [
    "#Transforming frequencies to binary"
   ]
  },
  {
   "cell_type": "code",
   "execution_count": 34,
   "metadata": {
    "colab": {},
    "colab_type": "code",
    "id": "BhWQFQsuqwN4"
   },
   "outputs": [],
   "source": [
    "bbow_train=bow_train.copy()\n",
    "bbow_test=bow_test.copy()"
   ]
  },
  {
   "cell_type": "code",
   "execution_count": 35,
   "metadata": {
    "colab": {},
    "colab_type": "code",
    "id": "ytWwCpQjqwGi"
   },
   "outputs": [],
   "source": [
    "for i in range(len(bbow_train)):\n",
    "    bbow_train[i]=bbow_train[i]>0"
   ]
  },
  {
   "cell_type": "code",
   "execution_count": 36,
   "metadata": {
    "colab": {},
    "colab_type": "code",
    "id": "Kh7xkaC0qv8J"
   },
   "outputs": [],
   "source": [
    "for i in range(len(bbow_test)):\n",
    "    bbow_test[i]=bbow_test[i]>0"
   ]
  },
  {
   "cell_type": "markdown",
   "metadata": {
    "colab_type": "text",
    "id": "S0SAjfsFrXq1"
   },
   "source": [
    "###Models with Binary BOW"
   ]
  },
  {
   "cell_type": "code",
   "execution_count": 37,
   "metadata": {
    "colab": {},
    "colab_type": "code",
    "id": "P1bRR4YNrd8O"
   },
   "outputs": [],
   "source": [
    "X_train0B=bbow_train\n",
    "X_test0B=bbow_test"
   ]
  },
  {
   "cell_type": "code",
   "execution_count": 38,
   "metadata": {
    "colab": {
     "base_uri": "https://localhost:8080/",
     "height": 935
    },
    "colab_type": "code",
    "id": "rpexRi9krdxD",
    "outputId": "8b0388fa-f189-4cf6-b015-9bf10a18fed5"
   },
   "outputs": [
    {
     "name": "stdout",
     "output_type": "stream",
     "text": [
      "NB\n",
      "              precision    recall  f1-score   support\n",
      "\n",
      "       False       0.95      0.94      0.95       623\n",
      "        True       0.86      0.89      0.88       263\n",
      "\n",
      "    accuracy                           0.93       886\n",
      "   macro avg       0.91      0.92      0.91       886\n",
      "weighted avg       0.93      0.93      0.93       886\n",
      "\n",
      "LR\n",
      "              precision    recall  f1-score   support\n",
      "\n",
      "       False       0.95      0.97      0.96       623\n",
      "        True       0.92      0.89      0.90       263\n",
      "\n",
      "    accuracy                           0.94       886\n",
      "   macro avg       0.94      0.93      0.93       886\n",
      "weighted avg       0.94      0.94      0.94       886\n",
      "\n",
      "SVC\n",
      "              precision    recall  f1-score   support\n",
      "\n",
      "       False       0.95      0.96      0.96       623\n",
      "        True       0.91      0.89      0.90       263\n",
      "\n",
      "    accuracy                           0.94       886\n",
      "   macro avg       0.93      0.93      0.93       886\n",
      "weighted avg       0.94      0.94      0.94       886\n",
      "\n",
      "K-NN\n",
      "              precision    recall  f1-score   support\n",
      "\n",
      "       False       0.98      0.48      0.64       623\n",
      "        True       0.44      0.98      0.61       263\n",
      "\n",
      "    accuracy                           0.63       886\n",
      "   macro avg       0.71      0.73      0.63       886\n",
      "weighted avg       0.82      0.63      0.63       886\n",
      "\n",
      "RF\n",
      "              precision    recall  f1-score   support\n",
      "\n",
      "       False       0.91      0.99      0.95       623\n",
      "        True       0.96      0.78      0.86       263\n",
      "\n",
      "    accuracy                           0.92       886\n",
      "   macro avg       0.94      0.88      0.90       886\n",
      "weighted avg       0.93      0.92      0.92       886\n",
      "\n"
     ]
    }
   ],
   "source": [
    "for i,clf in enumerate(clfs):\n",
    "    clf.fit(X_train0B, y_train)\n",
    "    # infer the label of each instance in the test set\n",
    "    predictions = clf.predict(X_test0B)\n",
    "    print(models[i])\n",
    "    print(classification_report(y_test, predictions))"
   ]
  },
  {
   "cell_type": "code",
   "execution_count": 39,
   "metadata": {
    "colab": {},
    "colab_type": "code",
    "id": "FjHO6L-UNMIN"
   },
   "outputs": [],
   "source": [
    "del X_train0B\n",
    "del X_test0B"
   ]
  },
  {
   "cell_type": "markdown",
   "metadata": {
    "colab_type": "text",
    "id": "r28FjnCVTa2K"
   },
   "source": [
    "##Transforming frequencies to tf*idf"
   ]
  },
  {
   "cell_type": "code",
   "execution_count": 40,
   "metadata": {
    "colab": {},
    "colab_type": "code",
    "id": "g1LeYmqTMDI0"
   },
   "outputs": [],
   "source": [
    "docf=[]\n",
    "for i in range(len(bow[0])):\n",
    "  docf.append(0)\n",
    "  for doc in bow:\n",
    "    docf[i]+=doc[i]"
   ]
  },
  {
   "cell_type": "code",
   "execution_count": 41,
   "metadata": {
    "colab": {},
    "colab_type": "code",
    "id": "_x2LwceUMnXz"
   },
   "outputs": [],
   "source": [
    "tdm_train=bow_train.copy()\n",
    "tdm_test=bow_test.copy()"
   ]
  },
  {
   "cell_type": "code",
   "execution_count": 42,
   "metadata": {
    "colab": {},
    "colab_type": "code",
    "id": "dywdaVI1MnI2"
   },
   "outputs": [],
   "source": [
    "import math\n",
    "for i in range(len(tdm_train)):\n",
    "    for e,freq in enumerate(tdm_train[i]):\n",
    "        tdm_train[i][e] = tdm_train[i][e]*math.log(len(docf)/docf[e],2.0)"
   ]
  },
  {
   "cell_type": "code",
   "execution_count": 43,
   "metadata": {
    "colab": {},
    "colab_type": "code",
    "id": "Phw7J4BdShuF"
   },
   "outputs": [],
   "source": [
    "for i in range(len(tdm_test)):\n",
    "    for e,freq in enumerate(tdm_test[i]):\n",
    "        tdm_test[i][e] = tdm_test[i][e]*math.log(len(docf)/docf[e],2.0)"
   ]
  },
  {
   "cell_type": "markdown",
   "metadata": {
    "colab_type": "text",
    "id": "am8xN_7D9HLY"
   },
   "source": [
    "### Models for the TDM with tf*idf "
   ]
  },
  {
   "cell_type": "code",
   "execution_count": 44,
   "metadata": {
    "colab": {},
    "colab_type": "code",
    "id": "xSXaMHJpnyxs"
   },
   "outputs": [],
   "source": [
    "X_train1=tdm_train\n",
    "X_test1=tdm_test"
   ]
  },
  {
   "cell_type": "code",
   "execution_count": 45,
   "metadata": {
    "colab": {
     "base_uri": "https://localhost:8080/",
     "height": 935
    },
    "colab_type": "code",
    "id": "xHNTiR587ljt",
    "outputId": "3dc172c6-0914-421a-cda7-bcff03e1e974"
   },
   "outputs": [
    {
     "name": "stdout",
     "output_type": "stream",
     "text": [
      "NB\n",
      "              precision    recall  f1-score   support\n",
      "\n",
      "       False       0.97      0.93      0.95       623\n",
      "        True       0.85      0.94      0.89       263\n",
      "\n",
      "    accuracy                           0.93       886\n",
      "   macro avg       0.91      0.93      0.92       886\n",
      "weighted avg       0.94      0.93      0.93       886\n",
      "\n",
      "LR\n",
      "              precision    recall  f1-score   support\n",
      "\n",
      "       False       0.96      0.97      0.96       623\n",
      "        True       0.93      0.89      0.91       263\n",
      "\n",
      "    accuracy                           0.95       886\n",
      "   macro avg       0.94      0.93      0.94       886\n",
      "weighted avg       0.95      0.95      0.95       886\n",
      "\n",
      "SVC\n",
      "              precision    recall  f1-score   support\n",
      "\n",
      "       False       0.96      0.96      0.96       623\n",
      "        True       0.91      0.91      0.91       263\n",
      "\n",
      "    accuracy                           0.95       886\n",
      "   macro avg       0.94      0.94      0.94       886\n",
      "weighted avg       0.95      0.95      0.95       886\n",
      "\n",
      "K-NN\n",
      "              precision    recall  f1-score   support\n",
      "\n",
      "       False       0.99      0.41      0.58       623\n",
      "        True       0.41      0.99      0.58       263\n",
      "\n",
      "    accuracy                           0.58       886\n",
      "   macro avg       0.70      0.70      0.58       886\n",
      "weighted avg       0.82      0.58      0.58       886\n",
      "\n",
      "RF\n",
      "              precision    recall  f1-score   support\n",
      "\n",
      "       False       0.92      0.99      0.95       623\n",
      "        True       0.98      0.78      0.87       263\n",
      "\n",
      "    accuracy                           0.93       886\n",
      "   macro avg       0.95      0.89      0.91       886\n",
      "weighted avg       0.93      0.93      0.93       886\n",
      "\n"
     ]
    }
   ],
   "source": [
    "for i,clf in enumerate(clfs):\n",
    "    clf.fit(X_train1, y_train)\n",
    "    # infer the label of each instance in the test set\n",
    "    predictions = clf.predict(X_test1)\n",
    "    print(models[i])\n",
    "    print(classification_report(y_test, predictions))"
   ]
  },
  {
   "cell_type": "code",
   "execution_count": 46,
   "metadata": {
    "colab": {},
    "colab_type": "code",
    "id": "M1AGHurVNIDB"
   },
   "outputs": [],
   "source": [
    "del X_train1\n",
    "del X_test1"
   ]
  },
  {
   "cell_type": "markdown",
   "metadata": {
    "colab_type": "text",
    "id": "qT5C8i9N9HLk"
   },
   "source": [
    "## Checking for useful derived features to add\n",
    "\n",
    "###### Derived from preprocessed_description, preprocessed_company_profile, preprocessed_requirements, preprocessed_benefits variables:\n",
    "1. desc_length\n",
    "2. company_profile_length\n",
    "3. requirements_length\n",
    "4. benefits_length\n",
    "\n",
    "###### Derived from description, requirement, benefits variables:\n",
    "5. desc_emp_tag_count\n",
    "6. req_emp_tag_count\n",
    "7. benefits_emp_tag_count\n",
    "8. requirements_list_tag_count\n",
    "9. benefits_list_tag_count\n",
    "\n",
    "###### Binary Variables availble in the dataset:\n",
    "10. telecommuting: 0 or 1\n",
    "11. has_company_logo: 0 or 1\n",
    "12. has_questions: 0 or 1"
   ]
  },
  {
   "cell_type": "markdown",
   "metadata": {
    "colab_type": "text",
    "id": "tExmR35r9HL0"
   },
   "source": [
    "### Creating Length Features"
   ]
  },
  {
   "cell_type": "markdown",
   "metadata": {
    "colab_type": "text",
    "id": "AJG9K-fafg6F"
   },
   "source": [
    "It is also worth checking if text metadata is indicative of fraud"
   ]
  },
  {
   "cell_type": "code",
   "execution_count": 47,
   "metadata": {
    "colab": {},
    "colab_type": "code",
    "id": "9EWphQ0H9HLy"
   },
   "outputs": [],
   "source": [
    "def text_length(text):\n",
    "    return (len(text))\n",
    "\n",
    "def find_emphasize_len(text):\n",
    "    emphasize_tags = ['b', 'em', 'strong']\n",
    "    emp_list = []\n",
    "\n",
    "    if type(text) != float: \n",
    "        soup = BeautifulSoup(text, 'html.parser')\n",
    "        for i in emphasize_tags:\n",
    "            result = soup.find_all(i)\n",
    "            emp_list.extend(result)\n",
    "  \n",
    "    if(emp_list):\n",
    "        return len(emp_list)\n",
    "\n",
    "    else:\n",
    "        return 0\n",
    "\n",
    "def find_list_len(text):\n",
    "    list_tags = ['ul', 'li', 'ol', 'dl', 'dt', 'dd']\n",
    "    list_list = []\n",
    "\n",
    "    if type(text) != float:\n",
    "        soup = BeautifulSoup(text, 'html.parser')\n",
    "        for i in list_tags:\n",
    "            result = soup.find_all(i)\n",
    "            list_list.extend(result)\n",
    "  \n",
    "    if(list_list):\n",
    "        return len(list_list)\n",
    "\n",
    "    return 0\n",
    "\n",
    "\n",
    "    "
   ]
  },
  {
   "cell_type": "code",
   "execution_count": 48,
   "metadata": {
    "colab": {},
    "colab_type": "code",
    "id": "Z4rjzmgY9HL1"
   },
   "outputs": [],
   "source": [
    "data_train['desc_length'] = data_train['preprocessed_description'].apply(text_length)\n",
    "data_train['requirement_length'] = data_train['preprocessed_requirements'].apply(text_length)\n",
    "data_train['benefits_length'] = data_train['preprocessed_benefits'].apply(text_length)\n",
    "data_train['company_profile_length'] = data_train['preprocessed_company_profile'].apply(text_length)"
   ]
  },
  {
   "cell_type": "code",
   "execution_count": 49,
   "metadata": {
    "colab": {},
    "colab_type": "code",
    "id": "TzFliMRMu_GA"
   },
   "outputs": [],
   "source": [
    "data_test['desc_length'] = data_test['preprocessed_description'].apply(text_length)\n",
    "data_test['requirement_length'] = data_test['preprocessed_requirements'].apply(text_length)\n",
    "data_test['benefits_length'] = data_test['preprocessed_benefits'].apply(text_length)\n",
    "data_test['company_profile_length'] = data_test['preprocessed_company_profile'].apply(text_length)"
   ]
  },
  {
   "cell_type": "code",
   "execution_count": 50,
   "metadata": {
    "colab": {},
    "colab_type": "code",
    "id": "1QnxIKld9HL4"
   },
   "outputs": [],
   "source": [
    "fraudulent_jobs = data_train[data_train.fraudulent=='t']\n",
    "non_fraudulent_jobs = data_train[data_train.fraudulent=='f']"
   ]
  },
  {
   "cell_type": "code",
   "execution_count": 51,
   "metadata": {
    "colab": {
     "base_uri": "https://localhost:8080/",
     "height": 182
    },
    "colab_type": "code",
    "id": "Ju3dorzD9HL6",
    "outputId": "d698b1d7-766d-48d7-bff4-1ddfcce105b8"
   },
   "outputs": [
    {
     "data": {
      "text/plain": [
       "count     595.000000\n",
       "mean      819.124370\n",
       "std       745.272461\n",
       "min         0.000000\n",
       "25%       310.500000\n",
       "50%       572.000000\n",
       "75%      1070.000000\n",
       "max      4975.000000\n",
       "Name: desc_length, dtype: float64"
      ]
     },
     "execution_count": 51,
     "metadata": {
      "tags": []
     },
     "output_type": "execute_result"
    }
   ],
   "source": [
    "fraudulent_jobs['desc_length'].describe()"
   ]
  },
  {
   "cell_type": "code",
   "execution_count": 52,
   "metadata": {
    "colab": {
     "base_uri": "https://localhost:8080/",
     "height": 182
    },
    "colab_type": "code",
    "id": "2DwxXEVm9HL9",
    "outputId": "a086e150-888a-4220-a174-31841203269d"
   },
   "outputs": [
    {
     "data": {
      "text/plain": [
       "count    1471.000000\n",
       "mean      917.724677\n",
       "std       616.609794\n",
       "min        19.000000\n",
       "25%       499.000000\n",
       "50%       786.000000\n",
       "75%      1178.000000\n",
       "max      4586.000000\n",
       "Name: desc_length, dtype: float64"
      ]
     },
     "execution_count": 52,
     "metadata": {
      "tags": []
     },
     "output_type": "execute_result"
    }
   ],
   "source": [
    "non_fraudulent_jobs['desc_length'].describe()"
   ]
  },
  {
   "cell_type": "code",
   "execution_count": 53,
   "metadata": {
    "colab": {
     "base_uri": "https://localhost:8080/",
     "height": 182
    },
    "colab_type": "code",
    "id": "7R1crtQs9HL_",
    "outputId": "dbc63798-b603-4029-f74c-e8969a1e9550"
   },
   "outputs": [
    {
     "data": {
      "text/plain": [
       "count     595.000000\n",
       "mean      347.675630\n",
       "std       446.180552\n",
       "min         0.000000\n",
       "25%        41.000000\n",
       "50%       177.000000\n",
       "75%       511.500000\n",
       "max      3264.000000\n",
       "Name: requirement_length, dtype: float64"
      ]
     },
     "execution_count": 53,
     "metadata": {
      "tags": []
     },
     "output_type": "execute_result"
    }
   ],
   "source": [
    "fraudulent_jobs['requirement_length'].describe()"
   ]
  },
  {
   "cell_type": "code",
   "execution_count": 54,
   "metadata": {
    "colab": {
     "base_uri": "https://localhost:8080/",
     "height": 182
    },
    "colab_type": "code",
    "id": "ur7Qdhy-9HMB",
    "outputId": "c8713e2f-0f44-4dcb-d582-159490a1c020"
   },
   "outputs": [
    {
     "data": {
      "text/plain": [
       "count    1471.000000\n",
       "mean      489.191027\n",
       "std       430.880493\n",
       "min         0.000000\n",
       "25%       184.000000\n",
       "50%       406.000000\n",
       "75%       665.500000\n",
       "max      3531.000000\n",
       "Name: requirement_length, dtype: float64"
      ]
     },
     "execution_count": 54,
     "metadata": {
      "tags": []
     },
     "output_type": "execute_result"
    }
   ],
   "source": [
    "non_fraudulent_jobs['requirement_length'].describe()"
   ]
  },
  {
   "cell_type": "code",
   "execution_count": 55,
   "metadata": {
    "colab": {
     "base_uri": "https://localhost:8080/",
     "height": 182
    },
    "colab_type": "code",
    "id": "Fi-l18rI9HME",
    "outputId": "9986e9d3-4411-4139-987e-8ac105ab05d0"
   },
   "outputs": [
    {
     "data": {
      "text/plain": [
       "count     595.000000\n",
       "mean      135.663866\n",
       "std       237.030204\n",
       "min         0.000000\n",
       "25%         0.000000\n",
       "50%        22.000000\n",
       "75%       161.000000\n",
       "max      1612.000000\n",
       "Name: benefits_length, dtype: float64"
      ]
     },
     "execution_count": 55,
     "metadata": {
      "tags": []
     },
     "output_type": "execute_result"
    }
   ],
   "source": [
    "fraudulent_jobs['benefits_length'].describe()"
   ]
  },
  {
   "cell_type": "code",
   "execution_count": 56,
   "metadata": {
    "colab": {
     "base_uri": "https://localhost:8080/",
     "height": 182
    },
    "colab_type": "code",
    "id": "rO29Q3bp9HMH",
    "outputId": "bd4ed1bf-33b6-4198-cce6-ea8fbf9863d0"
   },
   "outputs": [
    {
     "data": {
      "text/plain": [
       "count    1471.000000\n",
       "mean      212.918423\n",
       "std       298.033642\n",
       "min         0.000000\n",
       "25%         5.500000\n",
       "50%       120.000000\n",
       "75%       276.000000\n",
       "max      3121.000000\n",
       "Name: benefits_length, dtype: float64"
      ]
     },
     "execution_count": 56,
     "metadata": {
      "tags": []
     },
     "output_type": "execute_result"
    }
   ],
   "source": [
    "non_fraudulent_jobs['benefits_length'].describe()"
   ]
  },
  {
   "cell_type": "code",
   "execution_count": 57,
   "metadata": {
    "colab": {
     "base_uri": "https://localhost:8080/",
     "height": 182
    },
    "colab_type": "code",
    "id": "0pxC7Tgk9HML",
    "outputId": "a3cdf807-8f80-4320-a485-d1fb548490a0"
   },
   "outputs": [
    {
     "data": {
      "text/plain": [
       "count     595.000000\n",
       "mean      153.073950\n",
       "std       264.852957\n",
       "min         0.000000\n",
       "25%         0.000000\n",
       "50%         0.000000\n",
       "75%       259.000000\n",
       "max      1018.000000\n",
       "Name: company_profile_length, dtype: float64"
      ]
     },
     "execution_count": 57,
     "metadata": {
      "tags": []
     },
     "output_type": "execute_result"
    }
   ],
   "source": [
    "fraudulent_jobs['company_profile_length'].describe()"
   ]
  },
  {
   "cell_type": "code",
   "execution_count": 58,
   "metadata": {
    "colab": {
     "base_uri": "https://localhost:8080/",
     "height": 182
    },
    "colab_type": "code",
    "id": "llwWyqYN9HMN",
    "outputId": "0bb7f434-4d0a-47b2-9f01-1f2298824c7d"
   },
   "outputs": [
    {
     "data": {
      "text/plain": [
       "count    1471.000000\n",
       "mean      439.184908\n",
       "std       402.773843\n",
       "min         0.000000\n",
       "25%        97.000000\n",
       "50%       352.000000\n",
       "75%       688.000000\n",
       "max      2650.000000\n",
       "Name: company_profile_length, dtype: float64"
      ]
     },
     "execution_count": 58,
     "metadata": {
      "tags": []
     },
     "output_type": "execute_result"
    }
   ],
   "source": [
    "non_fraudulent_jobs['company_profile_length'].describe()"
   ]
  },
  {
   "cell_type": "markdown",
   "metadata": {
    "colab_type": "text",
    "id": "nkMvWbx0fs2v"
   },
   "source": [
    "Based on the above, the only one that might be helpful is company profile length"
   ]
  },
  {
   "cell_type": "code",
   "execution_count": 59,
   "metadata": {
    "colab": {},
    "colab_type": "code",
    "id": "fbCMS_YV9HMQ"
   },
   "outputs": [],
   "source": [
    "data_train.company_profile_length[data_train.company_profile_length < 100] = 0\n",
    "data_train.company_profile_length[data_train.company_profile_length >= 100] = 1"
   ]
  },
  {
   "cell_type": "code",
   "execution_count": 60,
   "metadata": {
    "colab": {},
    "colab_type": "code",
    "id": "QVc0ftBcvcks"
   },
   "outputs": [],
   "source": [
    "data_test.company_profile_length[data_test.company_profile_length < 100] = 0\n",
    "data_test.company_profile_length[data_test.company_profile_length >= 100] = 1"
   ]
  },
  {
   "cell_type": "markdown",
   "metadata": {
    "colab_type": "text",
    "id": "SMz-teV89HMS"
   },
   "source": [
    "### Creating html features"
   ]
  },
  {
   "cell_type": "markdown",
   "metadata": {
    "colab_type": "text",
    "id": "WmvCxlk-gD7L"
   },
   "source": [
    "It is also worth looking if htm features are indicative"
   ]
  },
  {
   "cell_type": "code",
   "execution_count": 61,
   "metadata": {
    "colab": {},
    "colab_type": "code",
    "id": "InmFtgvU9HMS"
   },
   "outputs": [],
   "source": [
    "data_train['desc_emp_tag_count'] = data_train['description'].apply(find_emphasize_len)\n",
    "data_train['req_emp_tag_count'] = data_train['requirements'].apply(find_emphasize_len)\n",
    "data_train['benefits_emp_tag_count'] = data_train['benefits'].apply(find_emphasize_len)\n",
    "data_train['req_list_tag_count'] = data_train['requirements'].apply(find_list_len)\n",
    "data_train['benefits_list_tag_count'] = data_train['benefits'].apply(find_list_len)"
   ]
  },
  {
   "cell_type": "code",
   "execution_count": 62,
   "metadata": {
    "colab": {},
    "colab_type": "code",
    "id": "LD9yuBtHvtmY"
   },
   "outputs": [],
   "source": [
    "data_test['desc_emp_tag_count'] = data_test['description'].apply(find_emphasize_len)\n",
    "data_test['req_emp_tag_count'] = data_test['requirements'].apply(find_emphasize_len)\n",
    "data_test['benefits_emp_tag_count'] = data_test['benefits'].apply(find_emphasize_len)\n",
    "data_test['req_list_tag_count'] = data_test['requirements'].apply(find_list_len)\n",
    "data_test['benefits_list_tag_count'] = data_test['benefits'].apply(find_list_len)"
   ]
  },
  {
   "cell_type": "code",
   "execution_count": 63,
   "metadata": {
    "colab": {},
    "colab_type": "code",
    "id": "rI_7ytN0Dchz"
   },
   "outputs": [],
   "source": [
    "fraudulent_jobs = data_train[data_train.fraudulent=='t']\n",
    "non_fraudulent_jobs = data_train[data_train.fraudulent=='f']"
   ]
  },
  {
   "cell_type": "code",
   "execution_count": 64,
   "metadata": {
    "colab": {
     "base_uri": "https://localhost:8080/",
     "height": 182
    },
    "colab_type": "code",
    "id": "klfABaI6Dkru",
    "outputId": "f38ed06a-16e9-41db-aa0f-d1746dca59f1"
   },
   "outputs": [
    {
     "data": {
      "text/plain": [
       "count    595.000000\n",
       "mean       1.858824\n",
       "std        5.457232\n",
       "min        0.000000\n",
       "25%        0.000000\n",
       "50%        0.000000\n",
       "75%        1.000000\n",
       "max       97.000000\n",
       "Name: desc_emp_tag_count, dtype: float64"
      ]
     },
     "execution_count": 64,
     "metadata": {
      "tags": []
     },
     "output_type": "execute_result"
    }
   ],
   "source": [
    "fraudulent_jobs['desc_emp_tag_count'].describe()"
   ]
  },
  {
   "cell_type": "code",
   "execution_count": 65,
   "metadata": {
    "colab": {
     "base_uri": "https://localhost:8080/",
     "height": 182
    },
    "colab_type": "code",
    "id": "87Ex85AiDkds",
    "outputId": "7c47dcd8-bd12-4374-f9a2-43429085dc3f"
   },
   "outputs": [
    {
     "data": {
      "text/plain": [
       "count    1471.000000\n",
       "mean        1.800816\n",
       "std         2.940063\n",
       "min         0.000000\n",
       "25%         0.000000\n",
       "50%         1.000000\n",
       "75%         2.000000\n",
       "max        37.000000\n",
       "Name: desc_emp_tag_count, dtype: float64"
      ]
     },
     "execution_count": 65,
     "metadata": {
      "tags": []
     },
     "output_type": "execute_result"
    }
   ],
   "source": [
    "non_fraudulent_jobs['desc_emp_tag_count'].describe()"
   ]
  },
  {
   "cell_type": "code",
   "execution_count": 66,
   "metadata": {
    "colab": {
     "base_uri": "https://localhost:8080/",
     "height": 182
    },
    "colab_type": "code",
    "id": "-A_6F0cLCORe",
    "outputId": "5593abbb-fcd3-46f0-915b-2dff0827b000"
   },
   "outputs": [
    {
     "data": {
      "text/plain": [
       "count    595.000000\n",
       "mean       0.569748\n",
       "std        1.780863\n",
       "min        0.000000\n",
       "25%        0.000000\n",
       "50%        0.000000\n",
       "75%        0.000000\n",
       "max       29.000000\n",
       "Name: req_emp_tag_count, dtype: float64"
      ]
     },
     "execution_count": 66,
     "metadata": {
      "tags": []
     },
     "output_type": "execute_result"
    }
   ],
   "source": [
    "fraudulent_jobs['req_emp_tag_count'].describe()"
   ]
  },
  {
   "cell_type": "code",
   "execution_count": 67,
   "metadata": {
    "colab": {
     "base_uri": "https://localhost:8080/",
     "height": 182
    },
    "colab_type": "code",
    "id": "iZVHbnYdCfu5",
    "outputId": "75575f75-bd69-48db-e005-a15018d84d58"
   },
   "outputs": [
    {
     "data": {
      "text/plain": [
       "count    1471.000000\n",
       "mean        0.760707\n",
       "std         1.612403\n",
       "min         0.000000\n",
       "25%         0.000000\n",
       "50%         0.000000\n",
       "75%         1.000000\n",
       "max        26.000000\n",
       "Name: req_emp_tag_count, dtype: float64"
      ]
     },
     "execution_count": 67,
     "metadata": {
      "tags": []
     },
     "output_type": "execute_result"
    }
   ],
   "source": [
    "non_fraudulent_jobs['req_emp_tag_count'].describe()"
   ]
  },
  {
   "cell_type": "code",
   "execution_count": 68,
   "metadata": {
    "colab": {
     "base_uri": "https://localhost:8080/",
     "height": 182
    },
    "colab_type": "code",
    "id": "pUml8kIlD8-F",
    "outputId": "3d9640b0-2ea6-452e-8ddd-d8c40b3f8663"
   },
   "outputs": [
    {
     "data": {
      "text/plain": [
       "count    595.000000\n",
       "mean       0.448739\n",
       "std        1.527077\n",
       "min        0.000000\n",
       "25%        0.000000\n",
       "50%        0.000000\n",
       "75%        0.000000\n",
       "max       29.000000\n",
       "Name: benefits_emp_tag_count, dtype: float64"
      ]
     },
     "execution_count": 68,
     "metadata": {
      "tags": []
     },
     "output_type": "execute_result"
    }
   ],
   "source": [
    "fraudulent_jobs['benefits_emp_tag_count'].describe()"
   ]
  },
  {
   "cell_type": "code",
   "execution_count": 69,
   "metadata": {
    "colab": {
     "base_uri": "https://localhost:8080/",
     "height": 182
    },
    "colab_type": "code",
    "id": "ugGue2fQD84y",
    "outputId": "6d5d7ef7-27fd-4b6a-ef66-38a56b9f176a"
   },
   "outputs": [
    {
     "data": {
      "text/plain": [
       "count    1471.000000\n",
       "mean        0.488103\n",
       "std         1.293506\n",
       "min         0.000000\n",
       "25%         0.000000\n",
       "50%         0.000000\n",
       "75%         0.000000\n",
       "max        10.000000\n",
       "Name: benefits_emp_tag_count, dtype: float64"
      ]
     },
     "execution_count": 69,
     "metadata": {
      "tags": []
     },
     "output_type": "execute_result"
    }
   ],
   "source": [
    "non_fraudulent_jobs['benefits_emp_tag_count'].describe()"
   ]
  },
  {
   "cell_type": "code",
   "execution_count": 70,
   "metadata": {
    "colab": {
     "base_uri": "https://localhost:8080/",
     "height": 182
    },
    "colab_type": "code",
    "id": "jsdi86FID8y7",
    "outputId": "8aee5940-cf70-44e9-d583-c07924ff2c14"
   },
   "outputs": [
    {
     "data": {
      "text/plain": [
       "count    595.000000\n",
       "mean       2.465546\n",
       "std        6.133482\n",
       "min        0.000000\n",
       "25%        0.000000\n",
       "50%        0.000000\n",
       "75%        0.000000\n",
       "max       54.000000\n",
       "Name: req_list_tag_count, dtype: float64"
      ]
     },
     "execution_count": 70,
     "metadata": {
      "tags": []
     },
     "output_type": "execute_result"
    }
   ],
   "source": [
    "fraudulent_jobs['req_list_tag_count'].describe()"
   ]
  },
  {
   "cell_type": "code",
   "execution_count": 71,
   "metadata": {
    "colab": {
     "base_uri": "https://localhost:8080/",
     "height": 182
    },
    "colab_type": "code",
    "id": "XvB5ZLxYD8rS",
    "outputId": "aa77e3f6-9d2d-44c0-feed-b8e2566ae53d"
   },
   "outputs": [
    {
     "data": {
      "text/plain": [
       "count    1471.000000\n",
       "mean        7.099252\n",
       "std         7.682718\n",
       "min         0.000000\n",
       "25%         0.000000\n",
       "50%         6.000000\n",
       "75%        11.000000\n",
       "max        61.000000\n",
       "Name: req_list_tag_count, dtype: float64"
      ]
     },
     "execution_count": 71,
     "metadata": {
      "tags": []
     },
     "output_type": "execute_result"
    }
   ],
   "source": [
    "non_fraudulent_jobs['req_list_tag_count'].describe()"
   ]
  },
  {
   "cell_type": "code",
   "execution_count": 72,
   "metadata": {
    "colab": {
     "base_uri": "https://localhost:8080/",
     "height": 182
    },
    "colab_type": "code",
    "id": "VXcZe9EaD8kX",
    "outputId": "0b5a8ef1-75a5-47da-d16f-bac83aa62572"
   },
   "outputs": [
    {
     "data": {
      "text/plain": [
       "count    595.000000\n",
       "mean       0.857143\n",
       "std        2.955010\n",
       "min        0.000000\n",
       "25%        0.000000\n",
       "50%        0.000000\n",
       "75%        0.000000\n",
       "max       16.000000\n",
       "Name: benefits_list_tag_count, dtype: float64"
      ]
     },
     "execution_count": 72,
     "metadata": {
      "tags": []
     },
     "output_type": "execute_result"
    }
   ],
   "source": [
    "fraudulent_jobs['benefits_list_tag_count'].describe()"
   ]
  },
  {
   "cell_type": "code",
   "execution_count": 73,
   "metadata": {
    "colab": {
     "base_uri": "https://localhost:8080/",
     "height": 182
    },
    "colab_type": "code",
    "id": "lzxYRw0KD8c-",
    "outputId": "9f0ee01f-7667-4f08-f23d-7d9ac80e7cd9"
   },
   "outputs": [
    {
     "data": {
      "text/plain": [
       "count    1471.000000\n",
       "mean        2.547927\n",
       "std         3.947648\n",
       "min         0.000000\n",
       "25%         0.000000\n",
       "50%         0.000000\n",
       "75%         5.000000\n",
       "max        32.000000\n",
       "Name: benefits_list_tag_count, dtype: float64"
      ]
     },
     "execution_count": 73,
     "metadata": {
      "tags": []
     },
     "output_type": "execute_result"
    }
   ],
   "source": [
    "non_fraudulent_jobs['benefits_list_tag_count'].describe()"
   ]
  },
  {
   "cell_type": "markdown",
   "metadata": {
    "colab_type": "text",
    "id": "OqYzfvpLgz0K"
   },
   "source": [
    "Based on the above, requirement list tag count and benefit list tag count shall be used only"
   ]
  },
  {
   "cell_type": "markdown",
   "metadata": {
    "colab_type": "text",
    "id": "AmiAeIJA9HMU"
   },
   "source": [
    "### Binary variables"
   ]
  },
  {
   "cell_type": "markdown",
   "metadata": {
    "colab_type": "text",
    "id": "Wph7PUyyhvUg"
   },
   "source": [
    "Investigation of binary variables' usefullness"
   ]
  },
  {
   "cell_type": "code",
   "execution_count": 74,
   "metadata": {
    "colab": {},
    "colab_type": "code",
    "id": "blOsilH29HMU"
   },
   "outputs": [],
   "source": [
    "data_train.telecommuting[data_train.telecommuting == 'f'] = 0\n",
    "data_train.telecommuting[data_train.telecommuting == 't'] = 1\n",
    "data_train.has_company_logo[data_train.has_company_logo == 'f'] = 0\n",
    "data_train.has_company_logo[data_train.has_company_logo == 't'] = 1\n",
    "data_train.has_questions[data_train.has_questions == 'f'] = 0\n",
    "data_train.has_questions[data_train.has_questions == 't'] = 1"
   ]
  },
  {
   "cell_type": "code",
   "execution_count": 75,
   "metadata": {
    "colab": {},
    "colab_type": "code",
    "id": "k3m1xjTOvuJc"
   },
   "outputs": [],
   "source": [
    "data_test.telecommuting[data_test.telecommuting == 'f'] = 0\n",
    "data_test.telecommuting[data_test.telecommuting == 't'] = 1\n",
    "data_test.has_company_logo[data_test.has_company_logo == 'f'] = 0\n",
    "data_test.has_company_logo[data_test.has_company_logo == 't'] = 1\n",
    "data_test.has_questions[data_test.has_questions == 'f'] = 0\n",
    "data_test.has_questions[data_test.has_questions == 't'] = 1"
   ]
  },
  {
   "cell_type": "code",
   "execution_count": 76,
   "metadata": {
    "colab": {},
    "colab_type": "code",
    "id": "Sm8yworuEhp4"
   },
   "outputs": [],
   "source": [
    "fraudulent_jobs = data_train[data_train.fraudulent=='t']\n",
    "non_fraudulent_jobs = data_train[data_train.fraudulent=='f']"
   ]
  },
  {
   "cell_type": "code",
   "execution_count": 77,
   "metadata": {
    "colab": {
     "base_uri": "https://localhost:8080/",
     "height": 35
    },
    "colab_type": "code",
    "id": "CKuhGFZCEiQH",
    "outputId": "d9739a51-0841-4420-f51b-dc589ec62262"
   },
   "outputs": [
    {
     "data": {
      "text/plain": [
       "0.08907563025210084"
      ]
     },
     "execution_count": 77,
     "metadata": {
      "tags": []
     },
     "output_type": "execute_result"
    }
   ],
   "source": [
    "sum(fraudulent_jobs['telecommuting'])/len(fraudulent_jobs)"
   ]
  },
  {
   "cell_type": "code",
   "execution_count": 78,
   "metadata": {
    "colab": {
     "base_uri": "https://localhost:8080/",
     "height": 35
    },
    "colab_type": "code",
    "id": "YsYjZz2jEo0p",
    "outputId": "905155fa-c700-43ac-f28c-a0355f4acb83"
   },
   "outputs": [
    {
     "data": {
      "text/plain": [
       "0.07817811012916383"
      ]
     },
     "execution_count": 78,
     "metadata": {
      "tags": []
     },
     "output_type": "execute_result"
    }
   ],
   "source": [
    "sum(non_fraudulent_jobs['telecommuting'])/len(non_fraudulent_jobs)"
   ]
  },
  {
   "cell_type": "code",
   "execution_count": 79,
   "metadata": {
    "colab": {
     "base_uri": "https://localhost:8080/",
     "height": 35
    },
    "colab_type": "code",
    "id": "vj-qwKp4Eoro",
    "outputId": "6bb42e5f-816d-4c7e-fb48-06aaecfe44e5"
   },
   "outputs": [
    {
     "data": {
      "text/plain": [
       "0.31932773109243695"
      ]
     },
     "execution_count": 79,
     "metadata": {
      "tags": []
     },
     "output_type": "execute_result"
    }
   ],
   "source": [
    "sum(fraudulent_jobs['has_company_logo'])/len(fraudulent_jobs)"
   ]
  },
  {
   "cell_type": "code",
   "execution_count": 80,
   "metadata": {
    "colab": {
     "base_uri": "https://localhost:8080/",
     "height": 35
    },
    "colab_type": "code",
    "id": "7hLV6ORQEoht",
    "outputId": "73c65bbe-700c-4595-e543-232117355ac6"
   },
   "outputs": [
    {
     "data": {
      "text/plain": [
       "0.7715839564921821"
      ]
     },
     "execution_count": 80,
     "metadata": {
      "tags": []
     },
     "output_type": "execute_result"
    }
   ],
   "source": [
    "sum(non_fraudulent_jobs['has_company_logo'])/len(non_fraudulent_jobs)"
   ]
  },
  {
   "cell_type": "code",
   "execution_count": 81,
   "metadata": {
    "colab": {
     "base_uri": "https://localhost:8080/",
     "height": 35
    },
    "colab_type": "code",
    "id": "TYGvRW7rEoa3",
    "outputId": "f7ae7050-2bcd-4b9b-b09b-f910812cd13e"
   },
   "outputs": [
    {
     "data": {
      "text/plain": [
       "0.292436974789916"
      ]
     },
     "execution_count": 81,
     "metadata": {
      "tags": []
     },
     "output_type": "execute_result"
    }
   ],
   "source": [
    "sum(fraudulent_jobs['has_questions'])/len(fraudulent_jobs)"
   ]
  },
  {
   "cell_type": "code",
   "execution_count": 82,
   "metadata": {
    "colab": {
     "base_uri": "https://localhost:8080/",
     "height": 35
    },
    "colab_type": "code",
    "id": "Og4_Ang6EoM5",
    "outputId": "37898a13-0cab-4b43-8ae8-08030fccd2ed"
   },
   "outputs": [
    {
     "data": {
      "text/plain": [
       "0.5288919102651257"
      ]
     },
     "execution_count": 82,
     "metadata": {
      "tags": []
     },
     "output_type": "execute_result"
    }
   ],
   "source": [
    "sum(non_fraudulent_jobs['has_questions'])/len(non_fraudulent_jobs)"
   ]
  },
  {
   "cell_type": "markdown",
   "metadata": {
    "colab_type": "text",
    "id": "Bv9geaFggJzs"
   },
   "source": [
    "Based on the above, company logo and questions are worth keeping"
   ]
  },
  {
   "cell_type": "markdown",
   "metadata": {
    "colab_type": "text",
    "id": "8v9q8m87OIB5"
   },
   "source": [
    "###### Making Salaries Categorical for easier prediction"
   ]
  },
  {
   "cell_type": "code",
   "execution_count": 83,
   "metadata": {
    "colab": {},
    "colab_type": "code",
    "id": "k1AWYPmKOIB6"
   },
   "outputs": [],
   "source": [
    "import tensorflow as tf\n",
    "y2=tf.keras.utils.to_categorical([(i[0]-minsal)/20000 for i in y], num_classes=len(classes))"
   ]
  },
  {
   "cell_type": "markdown",
   "metadata": {
    "colab_type": "text",
    "id": "35MAwRKtOIB_"
   },
   "source": [
    "##### Prepare X and y Data for Salary prediction (simple BOW model will be used only)"
   ]
  },
  {
   "cell_type": "code",
   "execution_count": 84,
   "metadata": {
    "colab": {},
    "colab_type": "code",
    "id": "cA36TFK3OICA"
   },
   "outputs": [],
   "source": [
    "count_vectorizer = CountVectorizer(lowercase=True,stop_words='english',ngram_range = (1,1),tokenizer = tokenfull.tokenize)\n",
    "\n",
    "X_counts = count_vectorizer.fit_transform(X)"
   ]
  },
  {
   "cell_type": "code",
   "execution_count": 85,
   "metadata": {
    "colab": {},
    "colab_type": "code",
    "id": "fnoMOoilOICF"
   },
   "outputs": [],
   "source": [
    "X_train, X_test, y_train, y_test, = train_test_split(X_counts, y2, test_size=0.2, random_state=0)\n",
    "\n",
    "X_train.sort_indices()"
   ]
  },
  {
   "cell_type": "markdown",
   "metadata": {
    "colab_type": "text",
    "id": "4bkSzUNkOICJ"
   },
   "source": [
    "### Train Neural Network to obtain salary"
   ]
  },
  {
   "cell_type": "code",
   "execution_count": 86,
   "metadata": {
    "colab": {
     "base_uri": "https://localhost:8080/",
     "height": 752
    },
    "colab_type": "code",
    "id": "nZQ5-wxpOICK",
    "outputId": "7a902cdf-6d31-4ed6-a08a-3ceaaf81233f",
    "scrolled": true
   },
   "outputs": [
    {
     "name": "stdout",
     "output_type": "stream",
     "text": [
      "Epoch 1/20\n",
      "57/57 [==============================] - 3s 47ms/step - loss: 6.2857 - accuracy: 0.2530\n",
      "Epoch 2/20\n",
      "57/57 [==============================] - 3s 46ms/step - loss: 2.5244 - accuracy: 0.2984\n",
      "Epoch 3/20\n",
      "57/57 [==============================] - 3s 46ms/step - loss: 2.1427 - accuracy: 0.4264\n",
      "Epoch 4/20\n",
      "57/57 [==============================] - 3s 45ms/step - loss: 1.7856 - accuracy: 0.5282\n",
      "Epoch 5/20\n",
      "57/57 [==============================] - 3s 45ms/step - loss: 1.4762 - accuracy: 0.6085\n",
      "Epoch 6/20\n",
      "57/57 [==============================] - 3s 45ms/step - loss: 1.2301 - accuracy: 0.6855\n",
      "Epoch 7/20\n",
      "57/57 [==============================] - 3s 44ms/step - loss: 0.9999 - accuracy: 0.7630\n",
      "Epoch 8/20\n",
      "57/57 [==============================] - 3s 45ms/step - loss: 0.8173 - accuracy: 0.8223\n",
      "Epoch 9/20\n",
      "57/57 [==============================] - 3s 45ms/step - loss: 0.6730 - accuracy: 0.8666\n",
      "Epoch 10/20\n",
      "57/57 [==============================] - 3s 44ms/step - loss: 0.5518 - accuracy: 0.8898\n",
      "Epoch 11/20\n",
      "57/57 [==============================] - 3s 45ms/step - loss: 0.4581 - accuracy: 0.9131\n",
      "Epoch 12/20\n",
      "57/57 [==============================] - 3s 46ms/step - loss: 0.3840 - accuracy: 0.9197\n",
      "Epoch 13/20\n",
      "57/57 [==============================] - 3s 47ms/step - loss: 0.3232 - accuracy: 0.9347\n",
      "Epoch 14/20\n",
      "57/57 [==============================] - 3s 47ms/step - loss: 0.2778 - accuracy: 0.9446\n",
      "Epoch 15/20\n",
      "57/57 [==============================] - 3s 45ms/step - loss: 0.2420 - accuracy: 0.9491\n",
      "Epoch 16/20\n",
      "57/57 [==============================] - 3s 44ms/step - loss: 0.2151 - accuracy: 0.9518\n",
      "Epoch 17/20\n",
      "57/57 [==============================] - 3s 45ms/step - loss: 0.1808 - accuracy: 0.9601\n",
      "Epoch 18/20\n",
      "57/57 [==============================] - 3s 44ms/step - loss: 0.1566 - accuracy: 0.9657\n",
      "Epoch 19/20\n",
      "57/57 [==============================] - 3s 45ms/step - loss: 0.1412 - accuracy: 0.9679\n",
      "Epoch 20/20\n",
      "57/57 [==============================] - 3s 45ms/step - loss: 0.1197 - accuracy: 0.9762\n"
     ]
    }
   ],
   "source": [
    "from tensorflow.keras.models import Sequential\n",
    "from tensorflow.keras.layers import Dense, Flatten\n",
    "from tensorflow.keras.losses import MeanSquaredError\n",
    "\n",
    "input_dim = X_train.shape[1]\n",
    "\n",
    "NN=Sequential()\n",
    "NN.add(Dense(32,input_dim=input_dim,activation='relu'))\n",
    "NN.add(Dense(60000,activation='softmax'))\n",
    "NN.compile(loss=\"categorical_crossentropy\",optimizer='adam',metrics=['accuracy'])\n",
    "NN.fit(X_train.toarray(),y_train,epochs=20,batch_size=32)\n",
    "\n",
    "X_test.sort_indices()\n",
    "y_predict=NN.predict(X_test.toarray())"
   ]
  },
  {
   "cell_type": "code",
   "execution_count": 87,
   "metadata": {
    "colab": {},
    "colab_type": "code",
    "id": "vsnp1N7iNXPe"
   },
   "outputs": [],
   "source": [
    "del X_train\n",
    "del X_test"
   ]
  },
  {
   "cell_type": "markdown",
   "metadata": {
    "colab_type": "text",
    "id": "EuxON9rKOICN"
   },
   "source": [
    "##### Check Accuracy"
   ]
  },
  {
   "cell_type": "code",
   "execution_count": 88,
   "metadata": {
    "colab": {
     "base_uri": "https://localhost:8080/",
     "height": 35
    },
    "colab_type": "code",
    "id": "HUaosjh8OICP",
    "outputId": "d461e2f5-c4cc-445a-9acd-def067f6bdb8"
   },
   "outputs": [
    {
     "name": "stdout",
     "output_type": "stream",
     "text": [
      "0.8915929203539823\n"
     ]
    }
   ],
   "source": [
    "ind=[]\n",
    "for i in y_predict:\n",
    "  inde = list(i).index(max(i))\n",
    "  ind.append(inde)\n",
    "               \n",
    "ind2=[]\n",
    "for i in y_test:\n",
    "  inde = list(i).index(max(i))\n",
    "  ind2.append(inde)\n",
    "\n",
    "y_predictp=np.multiply(ind,20000)+minsal\n",
    "y_testp=np.multiply(ind2,20000)+minsal\n",
    "\n",
    "acc=[]\n",
    "for i in range(len(y_predict)):\n",
    "    if y_predictp[i]>=y_testp[i]-40000 and y_predictp[i]<=y_testp[i]+40000:\n",
    "        acc.append(1)\n",
    "    else:\n",
    "        acc.append(0)\n",
    "\n",
    "print(sum(acc)/len(acc))"
   ]
  },
  {
   "cell_type": "markdown",
   "metadata": {
    "colab_type": "text",
    "id": "z8KRAynIOICS"
   },
   "source": [
    "Accuracy is satisfactory. Time to predict."
   ]
  },
  {
   "cell_type": "code",
   "execution_count": 89,
   "metadata": {
    "colab": {},
    "colab_type": "code",
    "id": "iScmSY16OICj"
   },
   "outputs": [],
   "source": [
    "X_predict_train = np.array(data_train[data_train['salary_point'].isna()]['full_text'])\n",
    "\n",
    "X_predict_train_counts = count_vectorizer.transform(X_predict_train)\n",
    "X_predict_train_counts.sort_indices()\n",
    "\n",
    "predicted_salaries_train = NN.predict(X_predict_train_counts.toarray())\n",
    "cat_pred_train=[]\n",
    "for i in predicted_salaries_train:\n",
    "  cat = list(i).index(max(i))\n",
    "  cat_pred_train.append(cat)\n",
    "\n",
    "point_predictions_train=np.multiply(cat_pred_train,20000)+minsal\n",
    "\n"
   ]
  },
  {
   "cell_type": "code",
   "execution_count": 90,
   "metadata": {
    "colab": {},
    "colab_type": "code",
    "id": "nwVC-j0WgaRO"
   },
   "outputs": [],
   "source": [
    "X_predict_test = np.array(data_test[data_test['salary_point'].isna()]['full_text'])\n",
    "\n",
    "X_predict_test_counts = count_vectorizer.transform(X_predict_test)\n",
    "X_predict_test_counts.sort_indices()\n",
    "\n",
    "predicted_salaries_test = NN.predict(X_predict_test_counts.toarray())\n",
    "cat_pred_test=[]\n",
    "for i in predicted_salaries_test:\n",
    "  cat = list(i).index(max(i))\n",
    "  cat_pred_test.append(cat)\n",
    "\n",
    "point_predictions_test=np.multiply(cat_pred_test,20000)+minsal"
   ]
  },
  {
   "cell_type": "code",
   "execution_count": 91,
   "metadata": {
    "colab": {},
    "colab_type": "code",
    "id": "x1_thf6eSyJ_"
   },
   "outputs": [],
   "source": [
    "data_train['predicted_salary']=0\n",
    "data_train['predicted_salary'][data_train['salary_point'].isna()]=point_predictions_train\n",
    "data_train['predicted_salary'][data_train['salary_point']>0]=data_train[data_train['salary_point']>0]['salary_point']"
   ]
  },
  {
   "cell_type": "code",
   "execution_count": 92,
   "metadata": {
    "colab": {},
    "colab_type": "code",
    "id": "dr1pDXaIgtK0"
   },
   "outputs": [],
   "source": [
    "data_test['predicted_salary']=0\n",
    "data_test['predicted_salary'][data_test['salary_point'].isna()]=point_predictions_test\n",
    "data_test['predicted_salary'][data_test['salary_point']>0]=data_test[data_test['salary_point']>0]['salary_point']"
   ]
  },
  {
   "cell_type": "markdown",
   "metadata": {
    "colab_type": "text",
    "id": "0QrCSwEfxo8_"
   },
   "source": [
    "## Creating HMM features"
   ]
  },
  {
   "cell_type": "markdown",
   "metadata": {
    "colab_type": "text",
    "id": "5xWP0fxsNGbb"
   },
   "source": [
    "Processing for tagging"
   ]
  },
  {
   "cell_type": "code",
   "execution_count": 93,
   "metadata": {
    "colab": {},
    "colab_type": "code",
    "id": "FQepMwxexo9A"
   },
   "outputs": [],
   "source": [
    "def preprocessing_2(text):\n",
    "    text = text.apply(make_lower)\n",
    "    text = text.apply(remove_br)\n",
    "    text = text.apply(clean_html)\n",
    "    text = text.apply(remove_non_ascii)\n",
    "    text = text.apply(remove_junk)\n",
    "    text = text.apply(remove_escapes)\n",
    "    return text"
   ]
  },
  {
   "cell_type": "code",
   "execution_count": 94,
   "metadata": {
    "colab": {},
    "colab_type": "code",
    "id": "L5U6NDUWxo9D"
   },
   "outputs": [],
   "source": [
    "data_train['full_text_structured'] = preprocessing_2(data_train['full_text'])"
   ]
  },
  {
   "cell_type": "code",
   "execution_count": 95,
   "metadata": {
    "colab": {},
    "colab_type": "code",
    "id": "pPSnju3PwTDO"
   },
   "outputs": [],
   "source": [
    "data_test['full_text_structured'] = preprocessing_2(data_test['full_text'])"
   ]
  },
  {
   "cell_type": "markdown",
   "metadata": {
    "colab_type": "text",
    "id": "jMnuGXjlNKsJ"
   },
   "source": [
    "Using the tagger to capture average log probability per sentence of observing particular set of tags in each ad"
   ]
  },
  {
   "cell_type": "code",
   "execution_count": 96,
   "metadata": {
    "colab": {
     "base_uri": "https://localhost:8080/",
     "height": 54
    },
    "colab_type": "code",
    "id": "cqFdRThqxo9E",
    "outputId": "44a2a6f6-b902-4c12-a8a9-a0a180645649"
   },
   "outputs": [
    {
     "name": "stdout",
     "output_type": "stream",
     "text": [
      "[nltk_data] Downloading package treebank to /root/nltk_data...\n",
      "[nltk_data]   Unzipping corpora/treebank.zip.\n"
     ]
    }
   ],
   "source": [
    "from nltk.corpus import treebank\n",
    "nltk.download('treebank')\n",
    "train_data = treebank.tagged_sents()\n",
    "trainer = hmm.HiddenMarkovModelTrainer()\n",
    "tagger = trainer.train_supervised(train_data)\n",
    "tagger = nltk.HiddenMarkovModelTagger.train(train_data)\n",
    "\n",
    "def sent_calculation(text):\n",
    "    prob = 0\n",
    "    sent_list = str(text).split(\".\")\n",
    "    for i in range(len(sent_list)):\n",
    "        test = tagger.tag(sent_list[i].split())\n",
    "        prob = prob + tagger.log_probability(test)\n",
    "    return prob"
   ]
  },
  {
   "cell_type": "code",
   "execution_count": 97,
   "metadata": {
    "colab": {},
    "colab_type": "code",
    "id": "JINfRwPNxo9G"
   },
   "outputs": [],
   "source": [
    "data_train['awkward_lang'] = data_train['full_text_structured'].apply(sent_calculation)"
   ]
  },
  {
   "cell_type": "code",
   "execution_count": 98,
   "metadata": {
    "colab": {},
    "colab_type": "code",
    "id": "9Qp2OMPHwiGx"
   },
   "outputs": [],
   "source": [
    "data_test['awkward_lang'] = data_test['full_text_structured'].apply(sent_calculation)"
   ]
  },
  {
   "cell_type": "code",
   "execution_count": 99,
   "metadata": {
    "colab": {},
    "colab_type": "code",
    "id": "aFeOGhtzGcyY"
   },
   "outputs": [],
   "source": [
    "fraudulent_jobs = data_train[data_train.fraudulent=='t']\n",
    "non_fraudulent_jobs = data_train[data_train.fraudulent=='f']"
   ]
  },
  {
   "cell_type": "code",
   "execution_count": 100,
   "metadata": {
    "colab": {
     "base_uri": "https://localhost:8080/",
     "height": 182
    },
    "colab_type": "code",
    "id": "7jiFla3UGfaF",
    "outputId": "e4d1b20c-33d9-4f89-c0f8-6e0154db7498"
   },
   "outputs": [
    {
     "data": {
      "text/plain": [
       "count      595.000000\n",
       "mean     -2631.885880\n",
       "std       2000.864472\n",
       "min     -11101.280907\n",
       "25%      -3625.807656\n",
       "50%      -2120.131474\n",
       "75%      -1162.698445\n",
       "max        -79.420798\n",
       "Name: awkward_lang, dtype: float64"
      ]
     },
     "execution_count": 100,
     "metadata": {
      "tags": []
     },
     "output_type": "execute_result"
    }
   ],
   "source": [
    "fraudulent_jobs['awkward_lang'].describe()"
   ]
  },
  {
   "cell_type": "code",
   "execution_count": 101,
   "metadata": {
    "colab": {
     "base_uri": "https://localhost:8080/",
     "height": 182
    },
    "colab_type": "code",
    "id": "elVEWK9rGhrU",
    "outputId": "adb70bdc-f7bd-47b6-abaf-34356447b556"
   },
   "outputs": [
    {
     "data": {
      "text/plain": [
       "count     1471.000000\n",
       "mean     -3803.628721\n",
       "std       1966.618756\n",
       "min     -13944.396940\n",
       "25%      -4783.173309\n",
       "50%      -3538.783918\n",
       "75%      -2457.601623\n",
       "max       -115.849778\n",
       "Name: awkward_lang, dtype: float64"
      ]
     },
     "execution_count": 101,
     "metadata": {
      "tags": []
     },
     "output_type": "execute_result"
    }
   ],
   "source": [
    "non_fraudulent_jobs['awkward_lang'].describe()"
   ]
  },
  {
   "cell_type": "markdown",
   "metadata": {
    "colab_type": "text",
    "id": "oI-GubaAhRN8"
   },
   "source": [
    "Based on the above there seems to be some difference. So we shall look into adding this feature"
   ]
  },
  {
   "cell_type": "markdown",
   "metadata": {
    "colab_type": "text",
    "id": "MGgpzZTr9HMb"
   },
   "source": [
    "## Model: tf*idf + Derived Features"
   ]
  },
  {
   "cell_type": "code",
   "execution_count": 102,
   "metadata": {
    "colab": {},
    "colab_type": "code",
    "id": "P-p4aOM29HMZ"
   },
   "outputs": [],
   "source": [
    "def Encode_features2(mtrx, data):\n",
    "    features = []\n",
    "    \n",
    "    for i in range(len(data)):\n",
    "        tmp = [ data['has_company_logo'].iloc[i], data['has_questions'].iloc[i], data['company_profile_length'].iloc[i], data['benefits_list_tag_count'].iloc[i], data['req_list_tag_count'].iloc[i]]\n",
    "        tmp.extend(list(mtrx[i]))\n",
    "        features.append(tmp)\n",
    "    return features"
   ]
  },
  {
   "cell_type": "code",
   "execution_count": 103,
   "metadata": {
    "colab": {},
    "colab_type": "code",
    "id": "JU-WJ5of9HMb"
   },
   "outputs": [],
   "source": [
    "X_train2 = Encode_features2(tdm_train, data_train)\n",
    "X_test2 = Encode_features2(tdm_test, data_test)\n",
    "y_train = data_train['fraudulent']==\"t\"\n",
    "y_test = data_test['fraudulent']==\"t\""
   ]
  },
  {
   "cell_type": "code",
   "execution_count": 104,
   "metadata": {
    "colab": {
     "base_uri": "https://localhost:8080/",
     "height": 935
    },
    "colab_type": "code",
    "id": "T8r3COnU9HMj",
    "outputId": "026591cc-1bd1-4e31-f51c-2ee0f48b340e"
   },
   "outputs": [
    {
     "name": "stdout",
     "output_type": "stream",
     "text": [
      "NB\n",
      "              precision    recall  f1-score   support\n",
      "\n",
      "       False       0.97      0.94      0.95       623\n",
      "        True       0.86      0.94      0.90       263\n",
      "\n",
      "    accuracy                           0.94       886\n",
      "   macro avg       0.92      0.94      0.92       886\n",
      "weighted avg       0.94      0.94      0.94       886\n",
      "\n",
      "LR\n",
      "              precision    recall  f1-score   support\n",
      "\n",
      "       False       0.96      0.96      0.96       623\n",
      "        True       0.91      0.90      0.91       263\n",
      "\n",
      "    accuracy                           0.94       886\n",
      "   macro avg       0.94      0.93      0.93       886\n",
      "weighted avg       0.94      0.94      0.94       886\n",
      "\n",
      "SVC\n",
      "              precision    recall  f1-score   support\n",
      "\n",
      "       False       0.96      0.95      0.96       623\n",
      "        True       0.89      0.90      0.90       263\n",
      "\n",
      "    accuracy                           0.94       886\n",
      "   macro avg       0.93      0.93      0.93       886\n",
      "weighted avg       0.94      0.94      0.94       886\n",
      "\n",
      "K-NN\n",
      "              precision    recall  f1-score   support\n",
      "\n",
      "       False       0.99      0.41      0.58       623\n",
      "        True       0.41      0.99      0.58       263\n",
      "\n",
      "    accuracy                           0.58       886\n",
      "   macro avg       0.70      0.70      0.58       886\n",
      "weighted avg       0.82      0.58      0.58       886\n",
      "\n",
      "RF\n",
      "              precision    recall  f1-score   support\n",
      "\n",
      "       False       0.91      0.99      0.95       623\n",
      "        True       0.96      0.77      0.85       263\n",
      "\n",
      "    accuracy                           0.92       886\n",
      "   macro avg       0.93      0.88      0.90       886\n",
      "weighted avg       0.92      0.92      0.92       886\n",
      "\n"
     ]
    }
   ],
   "source": [
    "for i,clf in enumerate(clfs):\n",
    "    clf.fit(X_train2, y_train)\n",
    "    # infer the label of each instance in the test set\n",
    "    predictions = clf.predict(X_test2)\n",
    "    print(models[i])\n",
    "    print(classification_report(y_test, predictions))"
   ]
  },
  {
   "cell_type": "code",
   "execution_count": 105,
   "metadata": {
    "colab": {},
    "colab_type": "code",
    "id": "pCdv3LHVFOww"
   },
   "outputs": [],
   "source": [
    "del X_train2\n",
    "del X_test2"
   ]
  },
  {
   "cell_type": "markdown",
   "metadata": {
    "colab_type": "text",
    "id": "r6fO0Shl9HMq"
   },
   "source": [
    "## Model: Only derived features"
   ]
  },
  {
   "cell_type": "code",
   "execution_count": 106,
   "metadata": {
    "colab": {},
    "colab_type": "code",
    "id": "_7CrZO7q9HMq"
   },
   "outputs": [],
   "source": [
    "def Encode_features3(mtrx, data):\n",
    "    features = []\n",
    "    \n",
    "    for i in range(len(data)):\n",
    "        tmp = [ data['has_company_logo'].iloc[i], data['has_questions'].iloc[i], data['company_profile_length'].iloc[i], data['benefits_list_tag_count'].iloc[i], data['req_list_tag_count'].iloc[i]]\n",
    "        features.append(tmp)\n",
    "    return features"
   ]
  },
  {
   "cell_type": "code",
   "execution_count": 107,
   "metadata": {
    "colab": {},
    "colab_type": "code",
    "id": "nOwyQyLw9HMt"
   },
   "outputs": [],
   "source": [
    "X_train3 = Encode_features3(False, data_train)\n",
    "X_test3 = Encode_features3(False, data_test)"
   ]
  },
  {
   "cell_type": "code",
   "execution_count": 108,
   "metadata": {
    "colab": {
     "base_uri": "https://localhost:8080/",
     "height": 935
    },
    "colab_type": "code",
    "id": "Gs-rJn3C9HMw",
    "outputId": "6549e739-4f62-4a7b-d297-80e03af68e15"
   },
   "outputs": [
    {
     "name": "stdout",
     "output_type": "stream",
     "text": [
      "NB\n",
      "              precision    recall  f1-score   support\n",
      "\n",
      "       False       0.70      1.00      0.83       623\n",
      "        True       0.00      0.00      0.00       263\n",
      "\n",
      "    accuracy                           0.70       886\n",
      "   macro avg       0.35      0.50      0.41       886\n",
      "weighted avg       0.49      0.70      0.58       886\n",
      "\n",
      "LR\n",
      "              precision    recall  f1-score   support\n",
      "\n",
      "       False       0.84      0.87      0.85       623\n",
      "        True       0.66      0.59      0.62       263\n",
      "\n",
      "    accuracy                           0.79       886\n",
      "   macro avg       0.75      0.73      0.74       886\n",
      "weighted avg       0.78      0.79      0.78       886\n",
      "\n",
      "SVC\n",
      "              precision    recall  f1-score   support\n",
      "\n",
      "       False       0.84      0.87      0.85       623\n",
      "        True       0.66      0.60      0.63       263\n",
      "\n",
      "    accuracy                           0.79       886\n",
      "   macro avg       0.75      0.74      0.74       886\n",
      "weighted avg       0.79      0.79      0.79       886\n",
      "\n",
      "K-NN\n",
      "              precision    recall  f1-score   support\n",
      "\n",
      "       False       0.86      0.76      0.81       623\n",
      "        True       0.56      0.71      0.63       263\n",
      "\n",
      "    accuracy                           0.75       886\n",
      "   macro avg       0.71      0.74      0.72       886\n",
      "weighted avg       0.77      0.75      0.75       886\n",
      "\n",
      "RF\n",
      "              precision    recall  f1-score   support\n",
      "\n",
      "       False       0.84      0.88      0.86       623\n",
      "        True       0.69      0.62      0.65       263\n",
      "\n",
      "    accuracy                           0.80       886\n",
      "   macro avg       0.77      0.75      0.76       886\n",
      "weighted avg       0.80      0.80      0.80       886\n",
      "\n"
     ]
    }
   ],
   "source": [
    "for i,clf in enumerate(clfs):\n",
    "    clf.fit(X_train3, y_train)\n",
    "    # infer the label of each instance in the test set\n",
    "    predictions = clf.predict(X_test3)\n",
    "    print(models[i])\n",
    "    print(classification_report(y_test, predictions))"
   ]
  },
  {
   "cell_type": "code",
   "execution_count": 109,
   "metadata": {
    "colab": {},
    "colab_type": "code",
    "id": "DyMuPhjqFY1w"
   },
   "outputs": [],
   "source": [
    "del X_train3\n",
    "del X_test3"
   ]
  },
  {
   "cell_type": "markdown",
   "metadata": {
    "colab_type": "text",
    "id": "6-dbl0IvXHPr"
   },
   "source": [
    "## Model: tf*idf + derived features + salary predictions"
   ]
  },
  {
   "cell_type": "code",
   "execution_count": 110,
   "metadata": {
    "colab": {},
    "colab_type": "code",
    "id": "CY9yQKnPOIE0"
   },
   "outputs": [],
   "source": [
    "def Encode_features4(mtrx, data):\n",
    "    features = []\n",
    "    \n",
    "    for i in range(len(data)):\n",
    "        tmp = [ data['has_company_logo'].iloc[i], data['has_questions'].iloc[i], data['company_profile_length'].iloc[i], data['benefits_list_tag_count'].iloc[i], data['req_list_tag_count'].iloc[i], data['predicted_salary'].iloc[i]]\n",
    "        tmp.extend(list(mtrx[i]))\n",
    "        features.append(tmp)\n",
    "    return features"
   ]
  },
  {
   "cell_type": "code",
   "execution_count": 111,
   "metadata": {
    "colab": {},
    "colab_type": "code",
    "id": "G4ACXc_0OIE1"
   },
   "outputs": [],
   "source": [
    "X_train4 = Encode_features4(tdm_train, data_train)\n",
    "X_test4 = Encode_features4(tdm_test, data_test)"
   ]
  },
  {
   "cell_type": "code",
   "execution_count": 112,
   "metadata": {
    "colab": {
     "base_uri": "https://localhost:8080/",
     "height": 935
    },
    "colab_type": "code",
    "id": "wX71qaiMOIFL",
    "outputId": "8e190da7-3521-4582-9da4-ca63d68c09d1"
   },
   "outputs": [
    {
     "name": "stdout",
     "output_type": "stream",
     "text": [
      "NB\n",
      "              precision    recall  f1-score   support\n",
      "\n",
      "       False       0.89      0.13      0.23       623\n",
      "        True       0.32      0.96      0.48       263\n",
      "\n",
      "    accuracy                           0.38       886\n",
      "   macro avg       0.60      0.55      0.35       886\n",
      "weighted avg       0.72      0.38      0.30       886\n",
      "\n",
      "LR\n",
      "              precision    recall  f1-score   support\n",
      "\n",
      "       False       0.93      0.97      0.95       623\n",
      "        True       0.93      0.84      0.88       263\n",
      "\n",
      "    accuracy                           0.93       886\n",
      "   macro avg       0.93      0.90      0.92       886\n",
      "weighted avg       0.93      0.93      0.93       886\n",
      "\n",
      "SVC\n",
      "              precision    recall  f1-score   support\n",
      "\n",
      "       False       0.83      0.92      0.87       623\n",
      "        True       0.75      0.54      0.63       263\n",
      "\n",
      "    accuracy                           0.81       886\n",
      "   macro avg       0.79      0.73      0.75       886\n",
      "weighted avg       0.80      0.81      0.80       886\n",
      "\n",
      "K-NN\n",
      "              precision    recall  f1-score   support\n",
      "\n",
      "       False       0.95      0.94      0.95       623\n",
      "        True       0.87      0.88      0.87       263\n",
      "\n",
      "    accuracy                           0.92       886\n",
      "   macro avg       0.91      0.91      0.91       886\n",
      "weighted avg       0.92      0.92      0.92       886\n",
      "\n",
      "RF\n",
      "              precision    recall  f1-score   support\n",
      "\n",
      "       False       0.92      0.99      0.95       623\n",
      "        True       0.97      0.79      0.87       263\n",
      "\n",
      "    accuracy                           0.93       886\n",
      "   macro avg       0.95      0.89      0.91       886\n",
      "weighted avg       0.93      0.93      0.93       886\n",
      "\n"
     ]
    }
   ],
   "source": [
    "for i,clf in enumerate(clfs):\n",
    "    clf.fit(X_train4, y_train)\n",
    "    # infer the label of each instance in the test set\n",
    "    predictions = clf.predict(X_test4)\n",
    "    print(models[i])\n",
    "    print(classification_report(y_test, predictions))"
   ]
  },
  {
   "cell_type": "code",
   "execution_count": 113,
   "metadata": {
    "colab": {},
    "colab_type": "code",
    "id": "XDxORFFDFcMz"
   },
   "outputs": [],
   "source": [
    "del X_train4\n",
    "del X_test4"
   ]
  },
  {
   "cell_type": "markdown",
   "metadata": {
    "colab_type": "text",
    "id": "_Xlg7-nHxo-K"
   },
   "source": [
    "## Model: tf*idf + derived features + Salary + HMM probabilities"
   ]
  },
  {
   "cell_type": "code",
   "execution_count": 114,
   "metadata": {
    "colab": {},
    "colab_type": "code",
    "id": "7Y3UEGBhxo-K"
   },
   "outputs": [],
   "source": [
    "def Encode_features5(mtrx, data):\n",
    "    features = []\n",
    "    \n",
    "    for i in range(len(data)):\n",
    "        tmp = [ data['has_company_logo'].iloc[i], data['has_questions'].iloc[i], data['company_profile_length'].iloc[i], data['benefits_list_tag_count'].iloc[i], data['req_list_tag_count'].iloc[i],  data['predicted_salary'].iloc[i], -1*data['awkward_lang'].iloc[i]]\n",
    "        tmp.extend(list(mtrx[i]))\n",
    "        features.append(tmp)\n",
    "    return features"
   ]
  },
  {
   "cell_type": "code",
   "execution_count": 115,
   "metadata": {
    "colab": {},
    "colab_type": "code",
    "id": "mS6J5pEPxo-L"
   },
   "outputs": [],
   "source": [
    "X_train5 = Encode_features5(tdm_train, data_train)\n",
    "X_test5 = Encode_features5(tdm_test, data_test)"
   ]
  },
  {
   "cell_type": "code",
   "execution_count": 116,
   "metadata": {
    "colab": {
     "base_uri": "https://localhost:8080/",
     "height": 935
    },
    "colab_type": "code",
    "id": "X5WfBLGSS6RL",
    "outputId": "e591fb0e-4f70-422a-ec7f-898c178a0722"
   },
   "outputs": [
    {
     "name": "stdout",
     "output_type": "stream",
     "text": [
      "NB\n",
      "              precision    recall  f1-score   support\n",
      "\n",
      "       False       0.81      0.10      0.18       623\n",
      "        True       0.31      0.94      0.46       263\n",
      "\n",
      "    accuracy                           0.35       886\n",
      "   macro avg       0.56      0.52      0.32       886\n",
      "weighted avg       0.66      0.35      0.27       886\n",
      "\n",
      "LR\n",
      "              precision    recall  f1-score   support\n",
      "\n",
      "       False       0.93      0.96      0.94       623\n",
      "        True       0.89      0.84      0.86       263\n",
      "\n",
      "    accuracy                           0.92       886\n",
      "   macro avg       0.91      0.90      0.90       886\n",
      "weighted avg       0.92      0.92      0.92       886\n",
      "\n",
      "SVC\n",
      "              precision    recall  f1-score   support\n",
      "\n",
      "       False       0.94      0.42      0.58       623\n",
      "        True       0.41      0.94      0.57       263\n",
      "\n",
      "    accuracy                           0.57       886\n",
      "   macro avg       0.67      0.68      0.57       886\n",
      "weighted avg       0.78      0.57      0.58       886\n",
      "\n",
      "K-NN\n",
      "              precision    recall  f1-score   support\n",
      "\n",
      "       False       0.94      0.96      0.95       623\n",
      "        True       0.89      0.84      0.87       263\n",
      "\n",
      "    accuracy                           0.92       886\n",
      "   macro avg       0.91      0.90      0.91       886\n",
      "weighted avg       0.92      0.92      0.92       886\n",
      "\n",
      "RF\n",
      "              precision    recall  f1-score   support\n",
      "\n",
      "       False       0.91      0.99      0.95       623\n",
      "        True       0.97      0.78      0.86       263\n",
      "\n",
      "    accuracy                           0.93       886\n",
      "   macro avg       0.94      0.88      0.90       886\n",
      "weighted avg       0.93      0.93      0.92       886\n",
      "\n"
     ]
    }
   ],
   "source": [
    "for i,clf in enumerate(clfs):\n",
    "    clf.fit(X_train5, y_train)\n",
    "    # infer the label of each instance in the test set\n",
    "    predictions = clf.predict(X_test5)\n",
    "    print(models[i])\n",
    "    print(classification_report(y_test, predictions))"
   ]
  },
  {
   "cell_type": "code",
   "execution_count": 117,
   "metadata": {
    "colab": {},
    "colab_type": "code",
    "id": "712YZMwLFfTI"
   },
   "outputs": [],
   "source": [
    "del X_train5\n",
    "del X_test5"
   ]
  },
  {
   "cell_type": "markdown",
   "metadata": {
    "colab_type": "text",
    "id": "JMZbGtTosAEI"
   },
   "source": [
    "## Model: tf*idf + Salary + HMM probabilities"
   ]
  },
  {
   "cell_type": "code",
   "execution_count": 118,
   "metadata": {
    "colab": {},
    "colab_type": "code",
    "id": "4tCbZlShsAhV"
   },
   "outputs": [],
   "source": [
    "def Encode_features6(mtrx, data):\n",
    "    features = []\n",
    "    \n",
    "    for i in range(len(data)):\n",
    "        tmp = [ data['predicted_salary'].iloc[i], -1*data['awkward_lang'].iloc[i]]\n",
    "        tmp.extend(list(mtrx[i]))\n",
    "        features.append(tmp)\n",
    "    return features"
   ]
  },
  {
   "cell_type": "code",
   "execution_count": 119,
   "metadata": {
    "colab": {},
    "colab_type": "code",
    "id": "aO8P6w9qsC50"
   },
   "outputs": [],
   "source": [
    "X_train6 = Encode_features6(tdm_train, data_train)\n",
    "X_test6 = Encode_features6(tdm_test, data_test)"
   ]
  },
  {
   "cell_type": "code",
   "execution_count": 120,
   "metadata": {
    "colab": {
     "base_uri": "https://localhost:8080/",
     "height": 935
    },
    "colab_type": "code",
    "id": "ogWJaDgdsEg9",
    "outputId": "76540a39-7875-4acf-fbdd-21ebbec98c3b"
   },
   "outputs": [
    {
     "name": "stdout",
     "output_type": "stream",
     "text": [
      "NB\n",
      "              precision    recall  f1-score   support\n",
      "\n",
      "       False       0.81      0.10      0.18       623\n",
      "        True       0.31      0.94      0.46       263\n",
      "\n",
      "    accuracy                           0.35       886\n",
      "   macro avg       0.56      0.52      0.32       886\n",
      "weighted avg       0.66      0.35      0.27       886\n",
      "\n",
      "LR\n",
      "              precision    recall  f1-score   support\n",
      "\n",
      "       False       0.94      0.97      0.95       623\n",
      "        True       0.93      0.84      0.88       263\n",
      "\n",
      "    accuracy                           0.93       886\n",
      "   macro avg       0.93      0.91      0.92       886\n",
      "weighted avg       0.93      0.93      0.93       886\n",
      "\n",
      "SVC\n",
      "              precision    recall  f1-score   support\n",
      "\n",
      "       False       0.72      1.00      0.83       623\n",
      "        True       0.90      0.07      0.13       263\n",
      "\n",
      "    accuracy                           0.72       886\n",
      "   macro avg       0.81      0.53      0.48       886\n",
      "weighted avg       0.77      0.72      0.62       886\n",
      "\n",
      "K-NN\n",
      "              precision    recall  f1-score   support\n",
      "\n",
      "       False       0.94      0.96      0.95       623\n",
      "        True       0.89      0.84      0.87       263\n",
      "\n",
      "    accuracy                           0.92       886\n",
      "   macro avg       0.91      0.90      0.91       886\n",
      "weighted avg       0.92      0.92      0.92       886\n",
      "\n",
      "RF\n",
      "              precision    recall  f1-score   support\n",
      "\n",
      "       False       0.91      0.99      0.95       623\n",
      "        True       0.97      0.76      0.85       263\n",
      "\n",
      "    accuracy                           0.92       886\n",
      "   macro avg       0.94      0.88      0.90       886\n",
      "weighted avg       0.93      0.92      0.92       886\n",
      "\n"
     ]
    }
   ],
   "source": [
    "for i,clf in enumerate(clfs):\n",
    "    clf.fit(X_train6, y_train)\n",
    "    # infer the label of each instance in the test set\n",
    "    predictions = clf.predict(X_test6)\n",
    "    print(models[i])\n",
    "    print(classification_report(y_test, predictions))"
   ]
  },
  {
   "cell_type": "code",
   "execution_count": 121,
   "metadata": {
    "colab": {},
    "colab_type": "code",
    "id": "9kPnmuAwFh6F"
   },
   "outputs": [],
   "source": [
    "del X_train6\n",
    "del X_test6"
   ]
  }
 ],
 "metadata": {
  "colab": {
   "collapsed_sections": [],
   "name": "Notebook.ipynb",
   "provenance": []
  },
  "kernelspec": {
   "display_name": "Python 3",
   "language": "python",
   "name": "python3"
  },
  "language_info": {
   "codemirror_mode": {
    "name": "ipython",
    "version": 3
   },
   "file_extension": ".py",
   "mimetype": "text/x-python",
   "name": "python",
   "nbconvert_exporter": "python",
   "pygments_lexer": "ipython3",
   "version": "3.7.6"
  }
 },
 "nbformat": 4,
 "nbformat_minor": 1
}
