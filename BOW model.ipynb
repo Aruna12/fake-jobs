{
 "cells": [
  {
   "cell_type": "code",
   "execution_count": 496,
   "metadata": {},
   "outputs": [],
   "source": [
    "import pandas as pd\n",
    "import seaborn as sns\n",
    "import matplotlib.pyplot as plt\n",
    "%matplotlib inline\n",
    "import numpy as np\n",
    "import re\n",
    "from nltk import word_tokenize\n",
    "from nltk.corpus import stopwords\n",
    "from bs4 import BeautifulSoup\n",
    "pd.set_option('display.max_columns', None)\n",
    "from wordcloud import WordCloud, STOPWORDS, ImageColorGenerator\n",
    "from gensim.parsing.preprocessing import remove_stopwords\n",
    "from nltk.stem import PorterStemmer\n",
    "import warnings\n",
    "warnings.filterwarnings('ignore')"
   ]
  },
  {
   "cell_type": "code",
   "execution_count": 497,
   "metadata": {},
   "outputs": [],
   "source": [
    "#read data\n",
    "df = pd.read_csv('fake_job_data.csv')"
   ]
  },
  {
   "cell_type": "code",
   "execution_count": 498,
   "metadata": {},
   "outputs": [
    {
     "data": {
      "text/html": [
       "<div>\n",
       "<style scoped>\n",
       "    .dataframe tbody tr th:only-of-type {\n",
       "        vertical-align: middle;\n",
       "    }\n",
       "\n",
       "    .dataframe tbody tr th {\n",
       "        vertical-align: top;\n",
       "    }\n",
       "\n",
       "    .dataframe thead th {\n",
       "        text-align: right;\n",
       "    }\n",
       "</style>\n",
       "<table border=\"1\" class=\"dataframe\">\n",
       "  <thead>\n",
       "    <tr style=\"text-align: right;\">\n",
       "      <th></th>\n",
       "      <th>title</th>\n",
       "      <th>location</th>\n",
       "      <th>department</th>\n",
       "      <th>salary_range</th>\n",
       "      <th>company_profile</th>\n",
       "      <th>description</th>\n",
       "      <th>requirements</th>\n",
       "      <th>benefits</th>\n",
       "      <th>telecommuting</th>\n",
       "      <th>has_company_logo</th>\n",
       "      <th>has_questions</th>\n",
       "      <th>employment_type</th>\n",
       "      <th>required_experience</th>\n",
       "      <th>required_education</th>\n",
       "      <th>industry</th>\n",
       "      <th>function</th>\n",
       "      <th>fraudulent</th>\n",
       "      <th>in_balanced_dataset</th>\n",
       "    </tr>\n",
       "  </thead>\n",
       "  <tbody>\n",
       "    <tr>\n",
       "      <th>count</th>\n",
       "      <td>17880</td>\n",
       "      <td>17534</td>\n",
       "      <td>6333</td>\n",
       "      <td>2868</td>\n",
       "      <td>14572</td>\n",
       "      <td>17880</td>\n",
       "      <td>15191</td>\n",
       "      <td>10684</td>\n",
       "      <td>17880</td>\n",
       "      <td>17880</td>\n",
       "      <td>17880</td>\n",
       "      <td>14409</td>\n",
       "      <td>10830</td>\n",
       "      <td>9775</td>\n",
       "      <td>12977</td>\n",
       "      <td>11425</td>\n",
       "      <td>17880</td>\n",
       "      <td>17880</td>\n",
       "    </tr>\n",
       "    <tr>\n",
       "      <th>unique</th>\n",
       "      <td>11231</td>\n",
       "      <td>3105</td>\n",
       "      <td>1337</td>\n",
       "      <td>874</td>\n",
       "      <td>1710</td>\n",
       "      <td>15095</td>\n",
       "      <td>12119</td>\n",
       "      <td>6510</td>\n",
       "      <td>2</td>\n",
       "      <td>2</td>\n",
       "      <td>2</td>\n",
       "      <td>5</td>\n",
       "      <td>7</td>\n",
       "      <td>13</td>\n",
       "      <td>131</td>\n",
       "      <td>37</td>\n",
       "      <td>2</td>\n",
       "      <td>2</td>\n",
       "    </tr>\n",
       "    <tr>\n",
       "      <th>top</th>\n",
       "      <td>English Teacher Abroad</td>\n",
       "      <td>GB, LND, London</td>\n",
       "      <td>Sales</td>\n",
       "      <td>0-0</td>\n",
       "      <td>&lt;p&gt;We help teachers get safe &amp;amp; secure jobs...</td>\n",
       "      <td>&lt;p&gt;Play with kids, get paid for it &lt;/p&gt;\\r\\n&lt;p&gt;...</td>\n",
       "      <td>&lt;p&gt;University degree required. TEFL / TESOL / ...</td>\n",
       "      <td>&lt;p&gt;See job description&lt;/p&gt;</td>\n",
       "      <td>f</td>\n",
       "      <td>t</td>\n",
       "      <td>f</td>\n",
       "      <td>Full-time</td>\n",
       "      <td>Mid-Senior level</td>\n",
       "      <td>Bachelor's Degree</td>\n",
       "      <td>Information Technology and Services</td>\n",
       "      <td>Information Technology</td>\n",
       "      <td>f</td>\n",
       "      <td>f</td>\n",
       "    </tr>\n",
       "    <tr>\n",
       "      <th>freq</th>\n",
       "      <td>311</td>\n",
       "      <td>718</td>\n",
       "      <td>551</td>\n",
       "      <td>142</td>\n",
       "      <td>726</td>\n",
       "      <td>376</td>\n",
       "      <td>410</td>\n",
       "      <td>726</td>\n",
       "      <td>17113</td>\n",
       "      <td>14220</td>\n",
       "      <td>9088</td>\n",
       "      <td>11620</td>\n",
       "      <td>3809</td>\n",
       "      <td>5145</td>\n",
       "      <td>1734</td>\n",
       "      <td>1749</td>\n",
       "      <td>17014</td>\n",
       "      <td>16980</td>\n",
       "    </tr>\n",
       "  </tbody>\n",
       "</table>\n",
       "</div>"
      ],
      "text/plain": [
       "                          title         location department salary_range  \\\n",
       "count                     17880            17534       6333         2868   \n",
       "unique                    11231             3105       1337          874   \n",
       "top     English Teacher Abroad   GB, LND, London      Sales          0-0   \n",
       "freq                        311              718        551          142   \n",
       "\n",
       "                                          company_profile  \\\n",
       "count                                               14572   \n",
       "unique                                               1710   \n",
       "top     <p>We help teachers get safe &amp; secure jobs...   \n",
       "freq                                                  726   \n",
       "\n",
       "                                              description  \\\n",
       "count                                               17880   \n",
       "unique                                              15095   \n",
       "top     <p>Play with kids, get paid for it </p>\\r\\n<p>...   \n",
       "freq                                                  376   \n",
       "\n",
       "                                             requirements  \\\n",
       "count                                               15191   \n",
       "unique                                              12119   \n",
       "top     <p>University degree required. TEFL / TESOL / ...   \n",
       "freq                                                  410   \n",
       "\n",
       "                          benefits telecommuting has_company_logo  \\\n",
       "count                        10684         17880            17880   \n",
       "unique                        6510             2                2   \n",
       "top     <p>See job description</p>             f                t   \n",
       "freq                           726         17113            14220   \n",
       "\n",
       "       has_questions employment_type required_experience required_education  \\\n",
       "count          17880           14409               10830               9775   \n",
       "unique             2               5                   7                 13   \n",
       "top                f       Full-time    Mid-Senior level  Bachelor's Degree   \n",
       "freq            9088           11620                3809               5145   \n",
       "\n",
       "                                   industry                function  \\\n",
       "count                                 12977                   11425   \n",
       "unique                                  131                      37   \n",
       "top     Information Technology and Services  Information Technology   \n",
       "freq                                   1734                    1749   \n",
       "\n",
       "       fraudulent in_balanced_dataset  \n",
       "count       17880               17880  \n",
       "unique          2                   2  \n",
       "top             f                   f  \n",
       "freq        17014               16980  "
      ]
     },
     "execution_count": 498,
     "metadata": {},
     "output_type": "execute_result"
    }
   ],
   "source": [
    "df.describe()"
   ]
  },
  {
   "cell_type": "code",
   "execution_count": 499,
   "metadata": {},
   "outputs": [],
   "source": [
    "#taking the instances belonging to the balanced set only\n",
    "balanced_df = df[df.in_balanced_dataset == 't']"
   ]
  },
  {
   "cell_type": "code",
   "execution_count": 500,
   "metadata": {},
   "outputs": [
    {
     "data": {
      "text/html": [
       "<div>\n",
       "<style scoped>\n",
       "    .dataframe tbody tr th:only-of-type {\n",
       "        vertical-align: middle;\n",
       "    }\n",
       "\n",
       "    .dataframe tbody tr th {\n",
       "        vertical-align: top;\n",
       "    }\n",
       "\n",
       "    .dataframe thead th {\n",
       "        text-align: right;\n",
       "    }\n",
       "</style>\n",
       "<table border=\"1\" class=\"dataframe\">\n",
       "  <thead>\n",
       "    <tr style=\"text-align: right;\">\n",
       "      <th></th>\n",
       "      <th>title</th>\n",
       "      <th>location</th>\n",
       "      <th>department</th>\n",
       "      <th>salary_range</th>\n",
       "      <th>company_profile</th>\n",
       "      <th>description</th>\n",
       "      <th>requirements</th>\n",
       "      <th>benefits</th>\n",
       "      <th>telecommuting</th>\n",
       "      <th>has_company_logo</th>\n",
       "      <th>has_questions</th>\n",
       "      <th>employment_type</th>\n",
       "      <th>required_experience</th>\n",
       "      <th>required_education</th>\n",
       "      <th>industry</th>\n",
       "      <th>function</th>\n",
       "      <th>fraudulent</th>\n",
       "      <th>in_balanced_dataset</th>\n",
       "    </tr>\n",
       "  </thead>\n",
       "  <tbody>\n",
       "    <tr>\n",
       "      <th>count</th>\n",
       "      <td>900</td>\n",
       "      <td>877</td>\n",
       "      <td>283</td>\n",
       "      <td>168</td>\n",
       "      <td>425</td>\n",
       "      <td>900</td>\n",
       "      <td>726</td>\n",
       "      <td>552</td>\n",
       "      <td>900</td>\n",
       "      <td>900</td>\n",
       "      <td>900</td>\n",
       "      <td>638</td>\n",
       "      <td>500</td>\n",
       "      <td>420</td>\n",
       "      <td>581</td>\n",
       "      <td>522</td>\n",
       "      <td>900</td>\n",
       "      <td>900</td>\n",
       "    </tr>\n",
       "    <tr>\n",
       "      <th>unique</th>\n",
       "      <td>700</td>\n",
       "      <td>482</td>\n",
       "      <td>150</td>\n",
       "      <td>112</td>\n",
       "      <td>290</td>\n",
       "      <td>750</td>\n",
       "      <td>575</td>\n",
       "      <td>425</td>\n",
       "      <td>2</td>\n",
       "      <td>2</td>\n",
       "      <td>2</td>\n",
       "      <td>5</td>\n",
       "      <td>7</td>\n",
       "      <td>11</td>\n",
       "      <td>79</td>\n",
       "      <td>33</td>\n",
       "      <td>2</td>\n",
       "      <td>1</td>\n",
       "    </tr>\n",
       "    <tr>\n",
       "      <th>top</th>\n",
       "      <td>Cruise Staff Wanted *URGENT*</td>\n",
       "      <td>US, NY, New York</td>\n",
       "      <td>Sales</td>\n",
       "      <td>7200-1380000</td>\n",
       "      <td>&lt;p&gt;We have aggressive growth plans in place fo...</td>\n",
       "      <td>&lt;p&gt;We are a full-service marketing and staffin...</td>\n",
       "      <td>&lt;p&gt;&lt;b&gt;Certification &amp;amp; Experience:&lt;/b&gt; Prev...</td>\n",
       "      <td>&lt;p&gt;&lt;b&gt;Benefits:&lt;/b&gt; On board en suite accommod...</td>\n",
       "      <td>f</td>\n",
       "      <td>f</td>\n",
       "      <td>f</td>\n",
       "      <td>Full-time</td>\n",
       "      <td>Entry level</td>\n",
       "      <td>Bachelor's Degree</td>\n",
       "      <td>Information Technology and Services</td>\n",
       "      <td>Administrative</td>\n",
       "      <td>t</td>\n",
       "      <td>t</td>\n",
       "    </tr>\n",
       "    <tr>\n",
       "      <th>freq</th>\n",
       "      <td>21</td>\n",
       "      <td>34</td>\n",
       "      <td>26</td>\n",
       "      <td>10</td>\n",
       "      <td>18</td>\n",
       "      <td>21</td>\n",
       "      <td>21</td>\n",
       "      <td>21</td>\n",
       "      <td>841</td>\n",
       "      <td>466</td>\n",
       "      <td>584</td>\n",
       "      <td>497</td>\n",
       "      <td>159</td>\n",
       "      <td>144</td>\n",
       "      <td>51</td>\n",
       "      <td>107</td>\n",
       "      <td>450</td>\n",
       "      <td>900</td>\n",
       "    </tr>\n",
       "  </tbody>\n",
       "</table>\n",
       "</div>"
      ],
      "text/plain": [
       "                               title          location department  \\\n",
       "count                            900               877        283   \n",
       "unique                           700               482        150   \n",
       "top     Cruise Staff Wanted *URGENT*  US, NY, New York      Sales   \n",
       "freq                              21                34         26   \n",
       "\n",
       "        salary_range                                    company_profile  \\\n",
       "count            168                                                425   \n",
       "unique           112                                                290   \n",
       "top     7200-1380000  <p>We have aggressive growth plans in place fo...   \n",
       "freq              10                                                 18   \n",
       "\n",
       "                                              description  \\\n",
       "count                                                 900   \n",
       "unique                                                750   \n",
       "top     <p>We are a full-service marketing and staffin...   \n",
       "freq                                                   21   \n",
       "\n",
       "                                             requirements  \\\n",
       "count                                                 726   \n",
       "unique                                                575   \n",
       "top     <p><b>Certification &amp; Experience:</b> Prev...   \n",
       "freq                                                   21   \n",
       "\n",
       "                                                 benefits telecommuting  \\\n",
       "count                                                 552           900   \n",
       "unique                                                425             2   \n",
       "top     <p><b>Benefits:</b> On board en suite accommod...             f   \n",
       "freq                                                   21           841   \n",
       "\n",
       "       has_company_logo has_questions employment_type required_experience  \\\n",
       "count               900           900             638                 500   \n",
       "unique                2             2               5                   7   \n",
       "top                   f             f       Full-time         Entry level   \n",
       "freq                466           584             497                 159   \n",
       "\n",
       "       required_education                             industry  \\\n",
       "count                 420                                  581   \n",
       "unique                 11                                   79   \n",
       "top     Bachelor's Degree  Information Technology and Services   \n",
       "freq                  144                                   51   \n",
       "\n",
       "              function fraudulent in_balanced_dataset  \n",
       "count              522        900                 900  \n",
       "unique              33          2                   1  \n",
       "top     Administrative          t                   t  \n",
       "freq               107        450                 900  "
      ]
     },
     "execution_count": 500,
     "metadata": {},
     "output_type": "execute_result"
    }
   ],
   "source": [
    "balanced_df.describe()"
   ]
  },
  {
   "cell_type": "code",
   "execution_count": 501,
   "metadata": {},
   "outputs": [],
   "source": [
    "#focus only on description, requirements, benefits, company profile for the bag of words model on the balanced dataset\n",
    "balanced_df.drop(columns = ['title', 'location', 'department', 'salary_range', 'telecommuting', 'has_company_logo', 'has_questions', 'employment_type', 'required_experience', 'required_education', 'industry', 'function', 'in_balanced_dataset'], axis = 1, inplace=True)"
   ]
  },
  {
   "cell_type": "code",
   "execution_count": 502,
   "metadata": {},
   "outputs": [],
   "source": [
    "balanced_df['requirements'] = balanced_df['requirements'].replace(np.nan, '')\n",
    "balanced_df['benefits'] = balanced_df['benefits'].replace(np.nan, '')\n",
    "balanced_df['company_profile'] = balanced_df['company_profile'].replace(np.nan, '')"
   ]
  },
  {
   "cell_type": "code",
   "execution_count": 503,
   "metadata": {},
   "outputs": [
    {
     "data": {
      "text/plain": [
       "company_profile    0\n",
       "description        0\n",
       "requirements       0\n",
       "benefits           0\n",
       "fraudulent         0\n",
       "dtype: int64"
      ]
     },
     "execution_count": 503,
     "metadata": {},
     "output_type": "execute_result"
    }
   ],
   "source": [
    "balanced_df.isna().sum()"
   ]
  },
  {
   "cell_type": "code",
   "execution_count": 504,
   "metadata": {},
   "outputs": [],
   "source": [
    "cleaned_balanced_df = balanced_df.copy()"
   ]
  },
  {
   "cell_type": "code",
   "execution_count": 505,
   "metadata": {},
   "outputs": [],
   "source": [
    "#Combining description, company profile, benefits and requirements\n",
    "cleaned_balanced_df['description'] = cleaned_balanced_df['company_profile'] + cleaned_balanced_df['description'] + cleaned_balanced_df['requirements'] + cleaned_balanced_df['benefits']"
   ]
  },
  {
   "cell_type": "code",
   "execution_count": 506,
   "metadata": {},
   "outputs": [],
   "source": [
    "cleaned_balanced_df.drop(columns=['requirements', 'benefits', 'company_profile'], axis = 1, inplace=True)"
   ]
  },
  {
   "cell_type": "code",
   "execution_count": 507,
   "metadata": {},
   "outputs": [],
   "source": [
    "cleaned_balanced_df.index = range(0,len(cleaned_balanced_df))"
   ]
  },
  {
   "cell_type": "code",
   "execution_count": 508,
   "metadata": {},
   "outputs": [
    {
     "data": {
      "text/html": [
       "<div>\n",
       "<style scoped>\n",
       "    .dataframe tbody tr th:only-of-type {\n",
       "        vertical-align: middle;\n",
       "    }\n",
       "\n",
       "    .dataframe tbody tr th {\n",
       "        vertical-align: top;\n",
       "    }\n",
       "\n",
       "    .dataframe thead th {\n",
       "        text-align: right;\n",
       "    }\n",
       "</style>\n",
       "<table border=\"1\" class=\"dataframe\">\n",
       "  <thead>\n",
       "    <tr style=\"text-align: right;\">\n",
       "      <th></th>\n",
       "      <th>description</th>\n",
       "      <th>fraudulent</th>\n",
       "    </tr>\n",
       "  </thead>\n",
       "  <tbody>\n",
       "    <tr>\n",
       "      <th>0</th>\n",
       "      <td>&lt;p&gt;The group has raised a fund for the purchas...</td>\n",
       "      <td>t</td>\n",
       "    </tr>\n",
       "    <tr>\n",
       "      <th>1</th>\n",
       "      <td>&lt;p&gt;Sales Executive&lt;/p&gt;&lt;p&gt;Sales Executive&lt;/p&gt;&lt;p...</td>\n",
       "      <td>t</td>\n",
       "    </tr>\n",
       "    <tr>\n",
       "      <th>2</th>\n",
       "      <td>&lt;p&gt;A Newly established company seeks outgoing,...</td>\n",
       "      <td>t</td>\n",
       "    </tr>\n",
       "    <tr>\n",
       "      <th>3</th>\n",
       "      <td>&lt;p&gt;Administrative Assistant&lt;br&gt;&lt;br&gt;Essential J...</td>\n",
       "      <td>t</td>\n",
       "    </tr>\n",
       "    <tr>\n",
       "      <th>4</th>\n",
       "      <td>&lt;p&gt;&lt;!--[if gte mso 9]&gt;&lt;xml&gt;\\r\\n &lt;o:OfficeDocum...</td>\n",
       "      <td>f</td>\n",
       "    </tr>\n",
       "  </tbody>\n",
       "</table>\n",
       "</div>"
      ],
      "text/plain": [
       "                                         description fraudulent\n",
       "0  <p>The group has raised a fund for the purchas...          t\n",
       "1  <p>Sales Executive</p><p>Sales Executive</p><p...          t\n",
       "2  <p>A Newly established company seeks outgoing,...          t\n",
       "3  <p>Administrative Assistant<br><br>Essential J...          t\n",
       "4  <p><!--[if gte mso 9]><xml>\\r\\n <o:OfficeDocum...          f"
      ]
     },
     "execution_count": 508,
     "metadata": {},
     "output_type": "execute_result"
    }
   ],
   "source": [
    "cleaned_balanced_df.head()"
   ]
  },
  {
   "cell_type": "code",
   "execution_count": 509,
   "metadata": {},
   "outputs": [],
   "source": [
    "import string\n",
    "def make_lower(text):\n",
    "    a = text.lower()\n",
    "    \n",
    "    return(a)\n",
    "def remove_digits(text):\n",
    "    a = re.sub(r'\\d+', '', text)\n",
    "    \n",
    "    return(a)\n",
    "\n",
    "def remove_links(text):\n",
    "    soup = BeautifulSoup(text, 'html.parser')\n",
    "    b = soup.find_all('a')\n",
    "    l = []\n",
    "    for i in b:\n",
    "        l.append(i.text)\n",
    "    full_text = ' '.join(l)\n",
    "    if full_text == '':\n",
    "        a = text\n",
    "    else:\n",
    "        a = full_text\n",
    "    return(a)    \n",
    "\n",
    "def remove_img_tags(data):\n",
    "    p = re.compile(r'<img.*?>')\n",
    "    return p.sub('', data)\n",
    "\n",
    "def get_text(text):\n",
    "    cleaned_text = \"\"\n",
    "    text = text.replace(\"<br>\", \" \")\n",
    "    soup = BeautifulSoup(text)\n",
    "    for tag in soup.find_all('li'):\n",
    "        cleaned_text = cleaned_text + \" \" + tag.text + \" \"\n",
    "    for tag in soup.find_all('a', href=True):\n",
    "        cleaned_text = cleaned_text +  \" \" + tag.text + \" \"\n",
    "    for tag in soup.find_all('title'):\n",
    "        cleaned_text = cleaned_text + \" \" + tag.text + \" \"\n",
    "    for tag in soup.find_all('p'):\n",
    "        cleaned_text = cleaned_text + \" \" + tag.text + \" \"\n",
    "\n",
    "    return cleaned_text\n",
    "\n",
    "def remove_punct(text):\n",
    "    punc = [',','!','$','.','—','+',\"’\",\"'\",\"–\",'(',')','%','&','\"','\"',':',';','?','/',\"#\",'=','<', '>','*','.',\"_\"]\n",
    "    text_filtered = \"\"\n",
    "    \n",
    "    for w in text:\n",
    "        if w not in punc:\n",
    "            #print(w)\n",
    "            text_filtered = text_filtered + w\n",
    "        else:\n",
    "            text_filtered = text_filtered + \" \"\n",
    "            \n",
    "    return (text_filtered)\n",
    "\n",
    "def remove_non_ascii(text):\n",
    "    encoded= text.encode(\"ascii\", \"ignore\")\n",
    "    decoded = encoded.decode()\n",
    "    \n",
    "    return decoded\n",
    "\n",
    "def removing_stopwords(text):\n",
    "    text = (remove_stopwords(text))\n",
    "    return (text)\n",
    "    \n",
    "def stem_text(text):\n",
    "    words = text.split()\n",
    "    porter = PorterStemmer()\n",
    "    stemmed_text = \"\"\n",
    "    for word in words:\n",
    "        stemmed_text = stemmed_text + \" \" + porter.stem(word)\n",
    "        \n",
    "    return stemmed_text"
   ]
  },
  {
   "cell_type": "code",
   "execution_count": 510,
   "metadata": {},
   "outputs": [],
   "source": [
    "def preprocessing(text):\n",
    "    text = text.apply(make_lower)\n",
    "    text = text.apply(remove_img_tags)\n",
    "    text = text.apply(remove_links)\n",
    "    text = text.apply(remove_digits)\n",
    "    text = text.apply(get_text)\n",
    "    text = text.apply(remove_punct)\n",
    "    text = text.apply(remove_non_ascii)\n",
    "    text = text.apply(removing_stopwords)\n",
    "    text = text.apply(stem_text)\n",
    "    return text"
   ]
  },
  {
   "cell_type": "code",
   "execution_count": 512,
   "metadata": {},
   "outputs": [],
   "source": [
    "cleaned_balanced_df['description'] = preprocessing(cleaned_balanced_df['description'])"
   ]
  },
  {
   "cell_type": "code",
   "execution_count": 513,
   "metadata": {},
   "outputs": [
    {
     "data": {
      "text/html": [
       "<div>\n",
       "<style scoped>\n",
       "    .dataframe tbody tr th:only-of-type {\n",
       "        vertical-align: middle;\n",
       "    }\n",
       "\n",
       "    .dataframe tbody tr th {\n",
       "        vertical-align: top;\n",
       "    }\n",
       "\n",
       "    .dataframe thead th {\n",
       "        text-align: right;\n",
       "    }\n",
       "</style>\n",
       "<table border=\"1\" class=\"dataframe\">\n",
       "  <thead>\n",
       "    <tr style=\"text-align: right;\">\n",
       "      <th></th>\n",
       "      <th>description</th>\n",
       "      <th>fraudulent</th>\n",
       "    </tr>\n",
       "  </thead>\n",
       "  <tbody>\n",
       "    <tr>\n",
       "      <th>0</th>\n",
       "      <td>group rais fund purchas home southeast studen...</td>\n",
       "      <td>t</td>\n",
       "    </tr>\n",
       "    <tr>\n",
       "      <th>1</th>\n",
       "      <td>sale execut sale execut sale execut</td>\n",
       "      <td>t</td>\n",
       "    </tr>\n",
       "    <tr>\n",
       "      <th>2</th>\n",
       "      <td>newli establish compani seek outgo friendli p...</td>\n",
       "      <td>t</td>\n",
       "    </tr>\n",
       "    <tr>\n",
       "      <th>3</th>\n",
       "      <td>administr assist essenti job respons answer r...</td>\n",
       "      <td>t</td>\n",
       "    </tr>\n",
       "    <tr>\n",
       "      <th>4</th>\n",
       "      <td>graduationsourc seek help custom custom produ...</td>\n",
       "      <td>f</td>\n",
       "    </tr>\n",
       "  </tbody>\n",
       "</table>\n",
       "</div>"
      ],
      "text/plain": [
       "                                         description fraudulent\n",
       "0   group rais fund purchas home southeast studen...          t\n",
       "1                sale execut sale execut sale execut          t\n",
       "2   newli establish compani seek outgo friendli p...          t\n",
       "3   administr assist essenti job respons answer r...          t\n",
       "4   graduationsourc seek help custom custom produ...          f"
      ]
     },
     "execution_count": 513,
     "metadata": {},
     "output_type": "execute_result"
    }
   ],
   "source": [
    "cleaned_balanced_df.head()"
   ]
  },
  {
   "cell_type": "code",
   "execution_count": null,
   "metadata": {},
   "outputs": [],
   "source": []
  },
  {
   "cell_type": "markdown",
   "metadata": {},
   "source": [
    "## Model fits"
   ]
  },
  {
   "cell_type": "code",
   "execution_count": 514,
   "metadata": {},
   "outputs": [],
   "source": [
    "from sklearn.feature_extraction.text import CountVectorizer\n",
    "from sklearn.model_selection import train_test_split\n",
    "from sklearn.feature_extraction.text import TfidfTransformer\n",
    "from sklearn.model_selection import cross_val_score\n",
    "from sklearn.linear_model import LogisticRegression\n",
    "from sklearn.naive_bayes import MultinomialNB\n",
    "from sklearn.ensemble import RandomForestClassifier\n",
    "from sklearn.base import TransformerMixin\n",
    "from sklearn.pipeline import Pipeline\n",
    "from sklearn.svm import LinearSVC\n",
    "from sklearn.feature_extraction.stop_words import ENGLISH_STOP_WORDS\n",
    "from sklearn.metrics import accuracy_score, roc_auc_score, classification_report, confusion_matrix"
   ]
  },
  {
   "cell_type": "code",
   "execution_count": 515,
   "metadata": {},
   "outputs": [],
   "source": [
    "#creating train and test set\n",
    "X = cleaned_balanced_df['description']\n",
    "y = cleaned_balanced_df['fraudulent']\n",
    "X_train, X_test, y_train, y_test = train_test_split(X,y, test_size = 0.3, random_state = 0)"
   ]
  },
  {
   "cell_type": "code",
   "execution_count": 516,
   "metadata": {},
   "outputs": [
    {
     "data": {
      "text/plain": [
       "CountVectorizer(analyzer='word', binary=False, decode_error='strict',\n",
       "                dtype=<class 'numpy.int64'>, encoding='utf-8', input='content',\n",
       "                lowercase=True, max_df=1.0, max_features=None, min_df=1,\n",
       "                ngram_range=(1, 1), preprocessor=None, stop_words=None,\n",
       "                strip_accents=None, token_pattern='(?u)\\\\b\\\\w\\\\w+\\\\b',\n",
       "                tokenizer=None, vocabulary=None)"
      ]
     },
     "execution_count": 516,
     "metadata": {},
     "output_type": "execute_result"
    }
   ],
   "source": [
    "vect = CountVectorizer()\n",
    "vect.fit(X_train)"
   ]
  },
  {
   "cell_type": "code",
   "execution_count": 517,
   "metadata": {},
   "outputs": [
    {
     "name": "stdout",
     "output_type": "stream",
     "text": [
      "Total number of vocabs: 5853\n"
     ]
    }
   ],
   "source": [
    "vocab = vect.vocabulary_\n",
    "print(\"Total number of vocabs:\", len(vocab))\n",
    "bow = vect.transform(X_train)\n",
    "bow = bow.toarray()"
   ]
  },
  {
   "cell_type": "code",
   "execution_count": 518,
   "metadata": {},
   "outputs": [],
   "source": [
    "X_train = vectorizer.fit_transform(X_train)\n",
    "X_test = vectorizer.transform(X_test)\n",
    "feature_names = vectorizer.get_feature_names()"
   ]
  },
  {
   "cell_type": "code",
   "execution_count": 525,
   "metadata": {},
   "outputs": [
    {
     "name": "stdout",
     "output_type": "stream",
     "text": [
      "['aa', 'acquir', 'adtech', 'agenda', 'am', 'angellist', 'apprais', 'artist', 'attend', 'awr', 'batteri', 'berkley', 'blive', 'brainstorm', 'buildin', 'calidad', 'carri', 'centrum', 'christma', 'climb', 'columbia', 'complet', 'congeni', 'conversion', 'courtesi', 'cs', 'damag', 'decision', 'depart', 'dfcdabfeddfdaedbcdbcda', 'dislik', 'dpi', 'dysfunct', 'eeaecbeceabcbecdadc', 'employ', 'entiti', 'estemo', 'exchang', 'extern', 'fastgrow', 'filtrat', 'flourish', 'form', 'frontend', 'gamp', 'gift', 'graphic', 'hack', 'header', 'hive', 'housekeep', 'id', 'incom', 'inhabit', 'intellect', 'involucrado', 'jee', 'kendal', 'labor', 'leader', 'lik', 'london', 'main', 'martinsburg', 'media', 'mi', 'mixtur', 'motherless', 'mvc', 'network', 'nottingham', 'odm', 'onshor', 'osha', 'packag', 'patch', 'perm', 'pig', 'pmi', 'power', 'previou', 'professional', 'psv', 'quarterli', 'raymondhr', 'reconnaiss', 'relaunch', 'research', 'revolution', 'round', 'san', 'scn', 'seminar', 'shareabl', 'silicon', 'small', 'som', 'sphere', 'stalwart', 'storekeep', 'subsea', 'surpass', 'talli', 'telecom', 'theenvironment', 'tile', 'townhom', 'travis', 'tx', 'uniform', 'ur', 'vancouv', 'violat', 'walkthrough', 'wednesday', 'winr', 'wqg', 'zopa']\n"
     ]
    }
   ],
   "source": [
    "#printing every 50th feature name\n",
    "print(feature_names[::50])"
   ]
  },
  {
   "cell_type": "markdown",
   "metadata": {},
   "source": [
    "### Logistic Regression"
   ]
  },
  {
   "cell_type": "code",
   "execution_count": 521,
   "metadata": {},
   "outputs": [
    {
     "name": "stdout",
     "output_type": "stream",
     "text": [
      "0.725925925925926\n",
      "[[117  19]\n",
      " [ 55  79]]\n"
     ]
    }
   ],
   "source": [
    "logreg = LogisticRegression()\n",
    "logreg.fit(X_train, y_train)\n",
    "print(logreg.score(X_test, y_test))\n",
    "pred_logreg = logreg.predict(X_test)\n",
    "confusion = confusion_matrix(y_test, pred_logreg)\n",
    "print(confusion)"
   ]
  },
  {
   "cell_type": "markdown",
   "metadata": {},
   "source": [
    "### Naive Bayes"
   ]
  },
  {
   "cell_type": "code",
   "execution_count": 522,
   "metadata": {},
   "outputs": [
    {
     "name": "stdout",
     "output_type": "stream",
     "text": [
      "0.7666666666666667\n",
      "[[ 92  44]\n",
      " [ 19 115]]\n"
     ]
    }
   ],
   "source": [
    "nb = MultinomialNB()\n",
    "nb.fit(X_train, y_train)\n",
    "print(nb.score(X_test, y_test))\n",
    "pred_nb = nb.predict(X_test)\n",
    "confusion_nb = confusion_matrix(y_test, pred_nb)\n",
    "print(confusion_nb)"
   ]
  },
  {
   "cell_type": "markdown",
   "metadata": {},
   "source": [
    "### Random forest"
   ]
  },
  {
   "cell_type": "code",
   "execution_count": 524,
   "metadata": {},
   "outputs": [
    {
     "name": "stdout",
     "output_type": "stream",
     "text": [
      "0.762962962962963\n",
      "[[125  11]\n",
      " [ 53  81]]\n"
     ]
    }
   ],
   "source": [
    "rf = RandomForestClassifier()\n",
    "rf.fit(X_train, y_train)\n",
    "print(rf.score(X_test, y_test))\n",
    "pred_rf = rf.predict(X_test)\n",
    "confusion_rf = confusion_matrix(y_test, pred_rf)\n",
    "print(confusion_rf)"
   ]
  },
  {
   "cell_type": "code",
   "execution_count": null,
   "metadata": {},
   "outputs": [],
   "source": []
  },
  {
   "cell_type": "code",
   "execution_count": null,
   "metadata": {},
   "outputs": [],
   "source": []
  }
 ],
 "metadata": {
  "kernelspec": {
   "display_name": "Python 3",
   "language": "python",
   "name": "python3"
  },
  "language_info": {
   "codemirror_mode": {
    "name": "ipython",
    "version": 3
   },
   "file_extension": ".py",
   "mimetype": "text/x-python",
   "name": "python",
   "nbconvert_exporter": "python",
   "pygments_lexer": "ipython3",
   "version": "3.7.6"
  }
 },
 "nbformat": 4,
 "nbformat_minor": 2
}
